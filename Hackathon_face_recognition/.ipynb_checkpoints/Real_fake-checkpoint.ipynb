{
 "cells": [
  {
   "cell_type": "code",
   "execution_count": 1,
   "metadata": {},
   "outputs": [],
   "source": [
    "import os,inspect\n",
    "import os.path\n",
    "from pathlib import Path"
   ]
  },
  {
   "cell_type": "code",
   "execution_count": 2,
   "metadata": {},
   "outputs": [],
   "source": [
    "tr_dir_fake = os.listdir(\"train/training_fake/\")\n",
    "tr_dir_real = os.listdir(\"train/training_real/\")\n",
    "tst_dir = os.listdir(\"test/\")"
   ]
  },
  {
   "cell_type": "code",
   "execution_count": 3,
   "metadata": {},
   "outputs": [],
   "source": [
    "import pandas as pd\n",
    "import numpy as np\n",
    "train_df = pd.DataFrame(columns=['class','dir','image_file'])\n",
    "test_df = pd.DataFrame(columns=['class','dir','image_file'])"
   ]
  },
  {
   "cell_type": "code",
   "execution_count": 4,
   "metadata": {},
   "outputs": [],
   "source": [
    "for name in tr_dir_fake:\n",
    "    im_dir = \"train/training_fake\"\n",
    "    im_class = 'fake'\n",
    "    train_df.loc[train_df.shape[0]] = [im_class, im_dir, \"train/training_fake/\"+name]\n",
    "\n",
    "for name in tr_dir_real:\n",
    "    im_dir = \"train/training_real\"\n",
    "    im_class = 'real'\n",
    "    train_df.loc[train_df.shape[0]] = [im_class, im_dir, \"train/training_real/\"+name]"
   ]
  },
  {
   "cell_type": "code",
   "execution_count": 5,
   "metadata": {},
   "outputs": [
    {
     "data": {
      "text/html": [
       "<div>\n",
       "<style scoped>\n",
       "    .dataframe tbody tr th:only-of-type {\n",
       "        vertical-align: middle;\n",
       "    }\n",
       "\n",
       "    .dataframe tbody tr th {\n",
       "        vertical-align: top;\n",
       "    }\n",
       "\n",
       "    .dataframe thead th {\n",
       "        text-align: right;\n",
       "    }\n",
       "</style>\n",
       "<table border=\"1\" class=\"dataframe\">\n",
       "  <thead>\n",
       "    <tr style=\"text-align: right;\">\n",
       "      <th></th>\n",
       "      <th>class</th>\n",
       "      <th>dir</th>\n",
       "      <th>image_file</th>\n",
       "    </tr>\n",
       "  </thead>\n",
       "  <tbody>\n",
       "    <tr>\n",
       "      <th>0</th>\n",
       "      <td>fake</td>\n",
       "      <td>train/training_fake</td>\n",
       "      <td>train/training_fake/0.jpg</td>\n",
       "    </tr>\n",
       "    <tr>\n",
       "      <th>1</th>\n",
       "      <td>fake</td>\n",
       "      <td>train/training_fake</td>\n",
       "      <td>train/training_fake/1.jpg</td>\n",
       "    </tr>\n",
       "    <tr>\n",
       "      <th>2</th>\n",
       "      <td>fake</td>\n",
       "      <td>train/training_fake</td>\n",
       "      <td>train/training_fake/10.jpg</td>\n",
       "    </tr>\n",
       "    <tr>\n",
       "      <th>3</th>\n",
       "      <td>fake</td>\n",
       "      <td>train/training_fake</td>\n",
       "      <td>train/training_fake/100.jpg</td>\n",
       "    </tr>\n",
       "    <tr>\n",
       "      <th>4</th>\n",
       "      <td>fake</td>\n",
       "      <td>train/training_fake</td>\n",
       "      <td>train/training_fake/101.jpg</td>\n",
       "    </tr>\n",
       "    <tr>\n",
       "      <th>...</th>\n",
       "      <td>...</td>\n",
       "      <td>...</td>\n",
       "      <td>...</td>\n",
       "    </tr>\n",
       "    <tr>\n",
       "      <th>1704</th>\n",
       "      <td>real</td>\n",
       "      <td>train/training_real</td>\n",
       "      <td>train/training_real/995.jpg</td>\n",
       "    </tr>\n",
       "    <tr>\n",
       "      <th>1705</th>\n",
       "      <td>real</td>\n",
       "      <td>train/training_real</td>\n",
       "      <td>train/training_real/996.jpg</td>\n",
       "    </tr>\n",
       "    <tr>\n",
       "      <th>1706</th>\n",
       "      <td>real</td>\n",
       "      <td>train/training_real</td>\n",
       "      <td>train/training_real/997.jpg</td>\n",
       "    </tr>\n",
       "    <tr>\n",
       "      <th>1707</th>\n",
       "      <td>real</td>\n",
       "      <td>train/training_real</td>\n",
       "      <td>train/training_real/998.jpg</td>\n",
       "    </tr>\n",
       "    <tr>\n",
       "      <th>1708</th>\n",
       "      <td>real</td>\n",
       "      <td>train/training_real</td>\n",
       "      <td>train/training_real/999.jpg</td>\n",
       "    </tr>\n",
       "  </tbody>\n",
       "</table>\n",
       "<p>1709 rows × 3 columns</p>\n",
       "</div>"
      ],
      "text/plain": [
       "     class                  dir                   image_file\n",
       "0     fake  train/training_fake    train/training_fake/0.jpg\n",
       "1     fake  train/training_fake    train/training_fake/1.jpg\n",
       "2     fake  train/training_fake   train/training_fake/10.jpg\n",
       "3     fake  train/training_fake  train/training_fake/100.jpg\n",
       "4     fake  train/training_fake  train/training_fake/101.jpg\n",
       "...    ...                  ...                          ...\n",
       "1704  real  train/training_real  train/training_real/995.jpg\n",
       "1705  real  train/training_real  train/training_real/996.jpg\n",
       "1706  real  train/training_real  train/training_real/997.jpg\n",
       "1707  real  train/training_real  train/training_real/998.jpg\n",
       "1708  real  train/training_real  train/training_real/999.jpg\n",
       "\n",
       "[1709 rows x 3 columns]"
      ]
     },
     "execution_count": 5,
     "metadata": {},
     "output_type": "execute_result"
    }
   ],
   "source": [
    "train_df"
   ]
  },
  {
   "cell_type": "code",
   "execution_count": 6,
   "metadata": {},
   "outputs": [],
   "source": [
    "for name in tst_dir:\n",
    "    im_dir = \"test\"\n",
    "    im_class = 'fake'\n",
    "    test_df.loc[test_df.shape[0]] = [im_class, im_dir, \"test/\"+name]"
   ]
  },
  {
   "cell_type": "code",
   "execution_count": 7,
   "metadata": {},
   "outputs": [
    {
     "data": {
      "text/html": [
       "<div>\n",
       "<style scoped>\n",
       "    .dataframe tbody tr th:only-of-type {\n",
       "        vertical-align: middle;\n",
       "    }\n",
       "\n",
       "    .dataframe tbody tr th {\n",
       "        vertical-align: top;\n",
       "    }\n",
       "\n",
       "    .dataframe thead th {\n",
       "        text-align: right;\n",
       "    }\n",
       "</style>\n",
       "<table border=\"1\" class=\"dataframe\">\n",
       "  <thead>\n",
       "    <tr style=\"text-align: right;\">\n",
       "      <th></th>\n",
       "      <th>class</th>\n",
       "      <th>dir</th>\n",
       "      <th>image_file</th>\n",
       "    </tr>\n",
       "  </thead>\n",
       "  <tbody>\n",
       "    <tr>\n",
       "      <th>0</th>\n",
       "      <td>fake</td>\n",
       "      <td>test</td>\n",
       "      <td>test/0.jpg</td>\n",
       "    </tr>\n",
       "    <tr>\n",
       "      <th>1</th>\n",
       "      <td>fake</td>\n",
       "      <td>test</td>\n",
       "      <td>test/1.jpg</td>\n",
       "    </tr>\n",
       "    <tr>\n",
       "      <th>2</th>\n",
       "      <td>fake</td>\n",
       "      <td>test</td>\n",
       "      <td>test/10.jpg</td>\n",
       "    </tr>\n",
       "    <tr>\n",
       "      <th>3</th>\n",
       "      <td>fake</td>\n",
       "      <td>test</td>\n",
       "      <td>test/100.jpg</td>\n",
       "    </tr>\n",
       "    <tr>\n",
       "      <th>4</th>\n",
       "      <td>fake</td>\n",
       "      <td>test</td>\n",
       "      <td>test/101.jpg</td>\n",
       "    </tr>\n",
       "    <tr>\n",
       "      <th>...</th>\n",
       "      <td>...</td>\n",
       "      <td>...</td>\n",
       "      <td>...</td>\n",
       "    </tr>\n",
       "    <tr>\n",
       "      <th>327</th>\n",
       "      <td>fake</td>\n",
       "      <td>test</td>\n",
       "      <td>test/95.jpg</td>\n",
       "    </tr>\n",
       "    <tr>\n",
       "      <th>328</th>\n",
       "      <td>fake</td>\n",
       "      <td>test</td>\n",
       "      <td>test/96.jpg</td>\n",
       "    </tr>\n",
       "    <tr>\n",
       "      <th>329</th>\n",
       "      <td>fake</td>\n",
       "      <td>test</td>\n",
       "      <td>test/97.jpg</td>\n",
       "    </tr>\n",
       "    <tr>\n",
       "      <th>330</th>\n",
       "      <td>fake</td>\n",
       "      <td>test</td>\n",
       "      <td>test/98.jpg</td>\n",
       "    </tr>\n",
       "    <tr>\n",
       "      <th>331</th>\n",
       "      <td>fake</td>\n",
       "      <td>test</td>\n",
       "      <td>test/99.jpg</td>\n",
       "    </tr>\n",
       "  </tbody>\n",
       "</table>\n",
       "<p>332 rows × 3 columns</p>\n",
       "</div>"
      ],
      "text/plain": [
       "    class   dir    image_file\n",
       "0    fake  test    test/0.jpg\n",
       "1    fake  test    test/1.jpg\n",
       "2    fake  test   test/10.jpg\n",
       "3    fake  test  test/100.jpg\n",
       "4    fake  test  test/101.jpg\n",
       "..    ...   ...           ...\n",
       "327  fake  test   test/95.jpg\n",
       "328  fake  test   test/96.jpg\n",
       "329  fake  test   test/97.jpg\n",
       "330  fake  test   test/98.jpg\n",
       "331  fake  test   test/99.jpg\n",
       "\n",
       "[332 rows x 3 columns]"
      ]
     },
     "execution_count": 7,
     "metadata": {},
     "output_type": "execute_result"
    }
   ],
   "source": [
    "test_df"
   ]
  },
  {
   "cell_type": "code",
   "execution_count": 8,
   "metadata": {},
   "outputs": [],
   "source": [
    "train_df.to_csv('train.csv',index=False)\n",
    "test_df.to_csv('test.csv', index=False)"
   ]
  },
  {
   "cell_type": "code",
   "execution_count": 9,
   "metadata": {},
   "outputs": [],
   "source": [
    "#Define some parameters\n",
    "img_size = 60\n",
    "img_depth = 3"
   ]
  },
  {
   "cell_type": "code",
   "execution_count": 10,
   "metadata": {},
   "outputs": [],
   "source": [
    "train_df = pd.read_csv('train.csv')\n",
    "test_df = pd.read_csv('test.csv')"
   ]
  },
  {
   "cell_type": "code",
   "execution_count": 11,
   "metadata": {},
   "outputs": [
    {
     "data": {
      "text/plain": [
       "['fake', 'real']"
      ]
     },
     "execution_count": 11,
     "metadata": {},
     "output_type": "execute_result"
    }
   ],
   "source": [
    "class_names = train_df['class'].unique().tolist()\n",
    "class_names"
   ]
  },
  {
   "cell_type": "code",
   "execution_count": 12,
   "metadata": {},
   "outputs": [],
   "source": [
    "import tensorflow as tf"
   ]
  },
  {
   "cell_type": "code",
   "execution_count": 13,
   "metadata": {},
   "outputs": [],
   "source": [
    "def batch_generator(df, batchsize=32):   \n",
    "    \n",
    "    while True:       \n",
    "                \n",
    "        #Generate random numbers to pick images from dataset\n",
    "        batch_nums = np.random.randint(0,df.shape[0], batchsize)\n",
    "        \n",
    "        #Initialize batch images array\n",
    "        batch_images = np.zeros((batchsize,img_size, img_size,img_depth))\n",
    "        \n",
    "        #Initiate batch label array\n",
    "        batch_labels = np.zeros((batchsize, len(class_names)))\n",
    "        \n",
    "        for i in range(batchsize):\n",
    "            \n",
    "            #Load image\n",
    "            flower_image =  tf.keras.preprocessing.image.load_img(df.loc[batch_nums[i]]['image_file'],\n",
    "                                                                  target_size=(img_size, img_size))\n",
    "            #Convert to array\n",
    "            flower_image = tf.keras.preprocessing.image.img_to_array(flower_image)\n",
    "            \n",
    "            #Get the class\n",
    "            img_class = df.loc[batch_nums[i]]['class']\n",
    "            #Conver class to number\n",
    "            img_class = class_names.index(img_class)\n",
    "            #Convert class to one hot encoding\n",
    "            img_class = tf.keras.utils.to_categorical(img_class, num_classes=len(class_names))\n",
    "            \n",
    "            #Update batch images and class arrays\n",
    "            batch_images[i] = flower_image\n",
    "            batch_labels[i] = img_class        \n",
    "        \n",
    "        yield batch_images, batch_labels          "
   ]
  },
  {
   "cell_type": "code",
   "execution_count": 14,
   "metadata": {},
   "outputs": [],
   "source": [
    "#Initialize model, reshape & normalize data\n",
    "model = tf.keras.models.Sequential()\n",
    "model.add(tf.keras.layers.Reshape((10800,),input_shape=(img_size,img_size,3,)))\n",
    "model.add(tf.keras.layers.BatchNormalization())\n",
    "\n",
    "#Add 1st hidden layer\n",
    "model.add(tf.keras.layers.Dense(200))\n",
    "model.add(tf.keras.layers.LeakyReLU())\n",
    "model.add(tf.keras.layers.BatchNormalization())\n",
    "\n",
    "#Add 2nd hidden layer\n",
    "model.add(tf.keras.layers.Dense(100))\n",
    "model.add(tf.keras.layers.LeakyReLU())\n",
    "model.add(tf.keras.layers.BatchNormalization())\n",
    "\n",
    "#Add 3rd hidden layer\n",
    "model.add(tf.keras.layers.Dense(60))\n",
    "model.add(tf.keras.layers.BatchNormalization())\n",
    "model.add(tf.keras.layers.LeakyReLU())\n",
    "model.add(tf.keras.layers.Dropout(0.3))\n",
    "\n",
    "#Add 4th hidden layer\n",
    "model.add(tf.keras.layers.Dense(30))\n",
    "model.add(tf.keras.layers.LeakyReLU())\n",
    "model.add(tf.keras.layers.BatchNormalization())\n",
    "model.add(tf.keras.layers.Dense(len(class_names), activation='softmax'))"
   ]
  },
  {
   "cell_type": "code",
   "execution_count": 15,
   "metadata": {},
   "outputs": [
    {
     "name": "stdout",
     "output_type": "stream",
     "text": [
      "Model: \"sequential\"\n",
      "_________________________________________________________________\n",
      "Layer (type)                 Output Shape              Param #   \n",
      "=================================================================\n",
      "reshape (Reshape)            (None, 10800)             0         \n",
      "_________________________________________________________________\n",
      "batch_normalization (BatchNo (None, 10800)             43200     \n",
      "_________________________________________________________________\n",
      "dense (Dense)                (None, 200)               2160200   \n",
      "_________________________________________________________________\n",
      "leaky_re_lu (LeakyReLU)      (None, 200)               0         \n",
      "_________________________________________________________________\n",
      "batch_normalization_1 (Batch (None, 200)               800       \n",
      "_________________________________________________________________\n",
      "dense_1 (Dense)              (None, 100)               20100     \n",
      "_________________________________________________________________\n",
      "leaky_re_lu_1 (LeakyReLU)    (None, 100)               0         \n",
      "_________________________________________________________________\n",
      "batch_normalization_2 (Batch (None, 100)               400       \n",
      "_________________________________________________________________\n",
      "dense_2 (Dense)              (None, 60)                6060      \n",
      "_________________________________________________________________\n",
      "batch_normalization_3 (Batch (None, 60)                240       \n",
      "_________________________________________________________________\n",
      "leaky_re_lu_2 (LeakyReLU)    (None, 60)                0         \n",
      "_________________________________________________________________\n",
      "dropout (Dropout)            (None, 60)                0         \n",
      "_________________________________________________________________\n",
      "dense_3 (Dense)              (None, 30)                1830      \n",
      "_________________________________________________________________\n",
      "leaky_re_lu_3 (LeakyReLU)    (None, 30)                0         \n",
      "_________________________________________________________________\n",
      "batch_normalization_4 (Batch (None, 30)                120       \n",
      "_________________________________________________________________\n",
      "dense_4 (Dense)              (None, 2)                 62        \n",
      "=================================================================\n",
      "Total params: 2,233,012\n",
      "Trainable params: 2,210,632\n",
      "Non-trainable params: 22,380\n",
      "_________________________________________________________________\n"
     ]
    }
   ],
   "source": [
    "model.summary()"
   ]
  },
  {
   "cell_type": "code",
   "execution_count": 16,
   "metadata": {},
   "outputs": [],
   "source": [
    "model.compile(optimizer='adam', loss='categorical_crossentropy', metrics=['accuracy'])"
   ]
  },
  {
   "cell_type": "code",
   "execution_count": 17,
   "metadata": {},
   "outputs": [],
   "source": [
    "batchsize = 64\n",
    "train_generator = batch_generator(train_df, batchsize=batchsize) #batchsize can be changed\n",
    "test_generator = batch_generator(test_df, batchsize=batchsize)"
   ]
  },
  {
   "cell_type": "code",
   "execution_count": 18,
   "metadata": {},
   "outputs": [
    {
     "name": "stderr",
     "output_type": "stream",
     "text": [
      "C:\\Users\\subha\\anaconda3\\lib\\site-packages\\tensorflow\\python\\keras\\engine\\training.py:1844: UserWarning: `Model.fit_generator` is deprecated and will be removed in a future version. Please use `Model.fit`, which supports generators.\n",
      "  warnings.warn('`Model.fit_generator` is deprecated and '\n"
     ]
    },
    {
     "name": "stdout",
     "output_type": "stream",
     "text": [
      "Epoch 1/10\n",
      "26/26 [==============================] - 51s 2s/step - loss: 0.7532 - accuracy: 0.5894 - val_loss: 2.2347 - val_accuracy: 0.5719\n",
      "Epoch 2/10\n",
      "26/26 [==============================] - 49s 2s/step - loss: 0.6521 - accuracy: 0.6330 - val_loss: 1.2121 - val_accuracy: 0.6031\n",
      "Epoch 3/10\n",
      "26/26 [==============================] - 45s 2s/step - loss: 0.6244 - accuracy: 0.6447 - val_loss: 2.1060 - val_accuracy: 0.3031\n",
      "Epoch 4/10\n",
      "26/26 [==============================] - 44s 2s/step - loss: 0.5850 - accuracy: 0.7016 - val_loss: 1.3763 - val_accuracy: 0.3688\n",
      "Epoch 5/10\n",
      "26/26 [==============================] - 40s 2s/step - loss: 0.5333 - accuracy: 0.7332 - val_loss: 1.1148 - val_accuracy: 0.4719\n",
      "Epoch 6/10\n",
      "26/26 [==============================] - 38s 2s/step - loss: 0.4639 - accuracy: 0.7860 - val_loss: 1.0741 - val_accuracy: 0.4844\n",
      "Epoch 7/10\n",
      "26/26 [==============================] - 45s 2s/step - loss: 0.4469 - accuracy: 0.7760 - val_loss: 1.1972 - val_accuracy: 0.4250\n",
      "Epoch 8/10\n",
      "26/26 [==============================] - 43s 2s/step - loss: 0.3917 - accuracy: 0.8292 - val_loss: 1.2335 - val_accuracy: 0.4719\n",
      "Epoch 9/10\n",
      "26/26 [==============================] - 38s 2s/step - loss: 0.3797 - accuracy: 0.8277 - val_loss: 1.3964 - val_accuracy: 0.4281\n",
      "Epoch 10/10\n",
      "26/26 [==============================] - 39s 2s/step - loss: 0.3299 - accuracy: 0.8498 - val_loss: 1.2422 - val_accuracy: 0.4594\n"
     ]
    },
    {
     "data": {
      "text/plain": [
       "<tensorflow.python.keras.callbacks.History at 0x2628448c1f0>"
      ]
     },
     "execution_count": 18,
     "metadata": {},
     "output_type": "execute_result"
    }
   ],
   "source": [
    "model.fit_generator(train_generator, \n",
    "                          epochs=5,\n",
    "                          steps_per_epoch= train_df.shape[0]//batchsize,\n",
    "                          validation_data=test_generator,\n",
    "                          validation_steps = test_df.shape[0]//batchsize)"
   ]
  },
  {
   "cell_type": "code",
   "execution_count": 79,
   "metadata": {},
   "outputs": [
    {
     "data": {
      "text/plain": [
       "array([[ 19.,  30., 136., ...,  47.,  46.,  55.]], dtype=float32)"
      ]
     },
     "execution_count": 79,
     "metadata": {},
     "output_type": "execute_result"
    }
   ],
   "source": [
    "test_image = tf.keras.preprocessing.image.load_img('test/84.jpg')\n",
    "test_image = test_image.resize([img_size,img_size])\n",
    "test_image = tf.keras.preprocessing.image.img_to_array(test_image)\n",
    "test_image.resize([1,10800])\n",
    "test_image"
   ]
  },
  {
   "cell_type": "code",
   "execution_count": 80,
   "metadata": {},
   "outputs": [
    {
     "data": {
      "text/plain": [
       "1"
      ]
     },
     "execution_count": 80,
     "metadata": {},
     "output_type": "execute_result"
    }
   ],
   "source": [
    "pred = model.predict(test_image)\n",
    "np.argmax(pred)"
   ]
  },
  {
   "cell_type": "code",
   "execution_count": 81,
   "metadata": {},
   "outputs": [],
   "source": [
    "j = []\n",
    "for i in tst_dir:\n",
    "    j.append('test/'+i)"
   ]
  },
  {
   "cell_type": "code",
   "execution_count": 118,
   "metadata": {},
   "outputs": [],
   "source": [
    "prediction = []\n",
    "filename = []\n",
    "for i in j:\n",
    "    filename.append(i)\n",
    "    test_image = tf.keras.preprocessing.image.load_img(i)\n",
    "    test_image = test_image.resize([img_size,img_size])\n",
    "    test_image = tf.keras.preprocessing.image.img_to_array(test_image)\n",
    "    test_image.resize([1,10800])\n",
    "    prediction.append(np.argmax(model.predict(test_image)))"
   ]
  },
  {
   "cell_type": "code",
   "execution_count": null,
   "metadata": {},
   "outputs": [],
   "source": []
  }
 ],
 "metadata": {
  "kernelspec": {
   "display_name": "Python 3",
   "language": "python",
   "name": "python3"
  },
  "language_info": {
   "codemirror_mode": {
    "name": "ipython",
    "version": 3
   },
   "file_extension": ".py",
   "mimetype": "text/x-python",
   "name": "python",
   "nbconvert_exporter": "python",
   "pygments_lexer": "ipython3",
   "version": "3.8.3"
  }
 },
 "nbformat": 4,
 "nbformat_minor": 4
}
