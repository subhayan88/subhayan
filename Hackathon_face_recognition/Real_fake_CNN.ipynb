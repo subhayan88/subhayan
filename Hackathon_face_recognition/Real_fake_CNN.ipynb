{
 "cells": [
  {
   "cell_type": "code",
   "execution_count": 1,
   "metadata": {},
   "outputs": [],
   "source": [
    "import os,inspect\n",
    "import os.path\n",
    "from pathlib import Path"
   ]
  },
  {
   "cell_type": "code",
   "execution_count": 2,
   "metadata": {},
   "outputs": [],
   "source": [
    "tr_dir_fake = os.listdir(\"train/training_fake/\")\n",
    "tr_dir_real = os.listdir(\"train/training_real/\")\n",
    "#tst_dir = os.listdir(\"test/\")"
   ]
  },
  {
   "cell_type": "code",
   "execution_count": 3,
   "metadata": {},
   "outputs": [],
   "source": [
    "import pandas as pd\n",
    "import numpy as np\n",
    "df = pd.DataFrame(columns=['class','dir','image_file'])\n",
    "#test_df = pd.DataFrame(columns=['class','dir','image_file'])"
   ]
  },
  {
   "cell_type": "code",
   "execution_count": 4,
   "metadata": {},
   "outputs": [],
   "source": [
    "for name in tr_dir_fake:\n",
    "    im_dir = \"train/training_fake\"\n",
    "    im_class = 'fake'\n",
    "    df.loc[df.shape[0]] = [im_class, im_dir, \"train/training_fake/\"+name]\n",
    "\n",
    "for name in tr_dir_real:\n",
    "    im_dir = \"train/training_real\"\n",
    "    im_class = 'real'\n",
    "    df.loc[df.shape[0]] = [im_class, im_dir, \"train/training_real/\"+name]"
   ]
  },
  {
   "cell_type": "code",
   "execution_count": 5,
   "metadata": {},
   "outputs": [
    {
     "data": {
      "text/html": [
       "<div>\n",
       "<style scoped>\n",
       "    .dataframe tbody tr th:only-of-type {\n",
       "        vertical-align: middle;\n",
       "    }\n",
       "\n",
       "    .dataframe tbody tr th {\n",
       "        vertical-align: top;\n",
       "    }\n",
       "\n",
       "    .dataframe thead th {\n",
       "        text-align: right;\n",
       "    }\n",
       "</style>\n",
       "<table border=\"1\" class=\"dataframe\">\n",
       "  <thead>\n",
       "    <tr style=\"text-align: right;\">\n",
       "      <th></th>\n",
       "      <th>class</th>\n",
       "      <th>dir</th>\n",
       "      <th>image_file</th>\n",
       "    </tr>\n",
       "  </thead>\n",
       "  <tbody>\n",
       "    <tr>\n",
       "      <th>0</th>\n",
       "      <td>fake</td>\n",
       "      <td>train/training_fake</td>\n",
       "      <td>train/training_fake/0.jpg</td>\n",
       "    </tr>\n",
       "    <tr>\n",
       "      <th>1</th>\n",
       "      <td>fake</td>\n",
       "      <td>train/training_fake</td>\n",
       "      <td>train/training_fake/1.jpg</td>\n",
       "    </tr>\n",
       "    <tr>\n",
       "      <th>2</th>\n",
       "      <td>fake</td>\n",
       "      <td>train/training_fake</td>\n",
       "      <td>train/training_fake/10.jpg</td>\n",
       "    </tr>\n",
       "    <tr>\n",
       "      <th>3</th>\n",
       "      <td>fake</td>\n",
       "      <td>train/training_fake</td>\n",
       "      <td>train/training_fake/100.jpg</td>\n",
       "    </tr>\n",
       "    <tr>\n",
       "      <th>4</th>\n",
       "      <td>fake</td>\n",
       "      <td>train/training_fake</td>\n",
       "      <td>train/training_fake/101.jpg</td>\n",
       "    </tr>\n",
       "    <tr>\n",
       "      <th>...</th>\n",
       "      <td>...</td>\n",
       "      <td>...</td>\n",
       "      <td>...</td>\n",
       "    </tr>\n",
       "    <tr>\n",
       "      <th>1704</th>\n",
       "      <td>real</td>\n",
       "      <td>train/training_real</td>\n",
       "      <td>train/training_real/995.jpg</td>\n",
       "    </tr>\n",
       "    <tr>\n",
       "      <th>1705</th>\n",
       "      <td>real</td>\n",
       "      <td>train/training_real</td>\n",
       "      <td>train/training_real/996.jpg</td>\n",
       "    </tr>\n",
       "    <tr>\n",
       "      <th>1706</th>\n",
       "      <td>real</td>\n",
       "      <td>train/training_real</td>\n",
       "      <td>train/training_real/997.jpg</td>\n",
       "    </tr>\n",
       "    <tr>\n",
       "      <th>1707</th>\n",
       "      <td>real</td>\n",
       "      <td>train/training_real</td>\n",
       "      <td>train/training_real/998.jpg</td>\n",
       "    </tr>\n",
       "    <tr>\n",
       "      <th>1708</th>\n",
       "      <td>real</td>\n",
       "      <td>train/training_real</td>\n",
       "      <td>train/training_real/999.jpg</td>\n",
       "    </tr>\n",
       "  </tbody>\n",
       "</table>\n",
       "<p>1709 rows × 3 columns</p>\n",
       "</div>"
      ],
      "text/plain": [
       "     class                  dir                   image_file\n",
       "0     fake  train/training_fake    train/training_fake/0.jpg\n",
       "1     fake  train/training_fake    train/training_fake/1.jpg\n",
       "2     fake  train/training_fake   train/training_fake/10.jpg\n",
       "3     fake  train/training_fake  train/training_fake/100.jpg\n",
       "4     fake  train/training_fake  train/training_fake/101.jpg\n",
       "...    ...                  ...                          ...\n",
       "1704  real  train/training_real  train/training_real/995.jpg\n",
       "1705  real  train/training_real  train/training_real/996.jpg\n",
       "1706  real  train/training_real  train/training_real/997.jpg\n",
       "1707  real  train/training_real  train/training_real/998.jpg\n",
       "1708  real  train/training_real  train/training_real/999.jpg\n",
       "\n",
       "[1709 rows x 3 columns]"
      ]
     },
     "execution_count": 5,
     "metadata": {},
     "output_type": "execute_result"
    }
   ],
   "source": [
    "df"
   ]
  },
  {
   "cell_type": "code",
   "execution_count": 6,
   "metadata": {},
   "outputs": [],
   "source": [
    "from sklearn.model_selection import train_test_split\n",
    "train_df, test_df = train_test_split(df, test_size=0.2, random_state=42)"
   ]
  },
  {
   "cell_type": "code",
   "execution_count": 7,
   "metadata": {},
   "outputs": [
    {
     "data": {
      "text/html": [
       "<div>\n",
       "<style scoped>\n",
       "    .dataframe tbody tr th:only-of-type {\n",
       "        vertical-align: middle;\n",
       "    }\n",
       "\n",
       "    .dataframe tbody tr th {\n",
       "        vertical-align: top;\n",
       "    }\n",
       "\n",
       "    .dataframe thead th {\n",
       "        text-align: right;\n",
       "    }\n",
       "</style>\n",
       "<table border=\"1\" class=\"dataframe\">\n",
       "  <thead>\n",
       "    <tr style=\"text-align: right;\">\n",
       "      <th></th>\n",
       "      <th>class</th>\n",
       "      <th>dir</th>\n",
       "      <th>image_file</th>\n",
       "    </tr>\n",
       "  </thead>\n",
       "  <tbody>\n",
       "    <tr>\n",
       "      <th>590</th>\n",
       "      <td>fake</td>\n",
       "      <td>train/training_fake</td>\n",
       "      <td>train/training_fake/63.jpg</td>\n",
       "    </tr>\n",
       "    <tr>\n",
       "      <th>1160</th>\n",
       "      <td>real</td>\n",
       "      <td>train/training_real</td>\n",
       "      <td>train/training_real/1400.jpg</td>\n",
       "    </tr>\n",
       "    <tr>\n",
       "      <th>420</th>\n",
       "      <td>fake</td>\n",
       "      <td>train/training_fake</td>\n",
       "      <td>train/training_fake/477.jpg</td>\n",
       "    </tr>\n",
       "    <tr>\n",
       "      <th>425</th>\n",
       "      <td>fake</td>\n",
       "      <td>train/training_fake</td>\n",
       "      <td>train/training_fake/481.jpg</td>\n",
       "    </tr>\n",
       "    <tr>\n",
       "      <th>859</th>\n",
       "      <td>real</td>\n",
       "      <td>train/training_real</td>\n",
       "      <td>train/training_real/1099.jpg</td>\n",
       "    </tr>\n",
       "    <tr>\n",
       "      <th>...</th>\n",
       "      <td>...</td>\n",
       "      <td>...</td>\n",
       "      <td>...</td>\n",
       "    </tr>\n",
       "    <tr>\n",
       "      <th>1130</th>\n",
       "      <td>real</td>\n",
       "      <td>train/training_real</td>\n",
       "      <td>train/training_real/1370.jpg</td>\n",
       "    </tr>\n",
       "    <tr>\n",
       "      <th>1294</th>\n",
       "      <td>real</td>\n",
       "      <td>train/training_real</td>\n",
       "      <td>train/training_real/1534.jpg</td>\n",
       "    </tr>\n",
       "    <tr>\n",
       "      <th>860</th>\n",
       "      <td>real</td>\n",
       "      <td>train/training_real</td>\n",
       "      <td>train/training_real/1100.jpg</td>\n",
       "    </tr>\n",
       "    <tr>\n",
       "      <th>1459</th>\n",
       "      <td>real</td>\n",
       "      <td>train/training_real</td>\n",
       "      <td>train/training_real/1699.jpg</td>\n",
       "    </tr>\n",
       "    <tr>\n",
       "      <th>1126</th>\n",
       "      <td>real</td>\n",
       "      <td>train/training_real</td>\n",
       "      <td>train/training_real/1366.jpg</td>\n",
       "    </tr>\n",
       "  </tbody>\n",
       "</table>\n",
       "<p>1367 rows × 3 columns</p>\n",
       "</div>"
      ],
      "text/plain": [
       "     class                  dir                    image_file\n",
       "590   fake  train/training_fake    train/training_fake/63.jpg\n",
       "1160  real  train/training_real  train/training_real/1400.jpg\n",
       "420   fake  train/training_fake   train/training_fake/477.jpg\n",
       "425   fake  train/training_fake   train/training_fake/481.jpg\n",
       "859   real  train/training_real  train/training_real/1099.jpg\n",
       "...    ...                  ...                           ...\n",
       "1130  real  train/training_real  train/training_real/1370.jpg\n",
       "1294  real  train/training_real  train/training_real/1534.jpg\n",
       "860   real  train/training_real  train/training_real/1100.jpg\n",
       "1459  real  train/training_real  train/training_real/1699.jpg\n",
       "1126  real  train/training_real  train/training_real/1366.jpg\n",
       "\n",
       "[1367 rows x 3 columns]"
      ]
     },
     "execution_count": 7,
     "metadata": {},
     "output_type": "execute_result"
    }
   ],
   "source": [
    "train_df"
   ]
  },
  {
   "cell_type": "code",
   "execution_count": 8,
   "metadata": {},
   "outputs": [
    {
     "data": {
      "text/html": [
       "<div>\n",
       "<style scoped>\n",
       "    .dataframe tbody tr th:only-of-type {\n",
       "        vertical-align: middle;\n",
       "    }\n",
       "\n",
       "    .dataframe tbody tr th {\n",
       "        vertical-align: top;\n",
       "    }\n",
       "\n",
       "    .dataframe thead th {\n",
       "        text-align: right;\n",
       "    }\n",
       "</style>\n",
       "<table border=\"1\" class=\"dataframe\">\n",
       "  <thead>\n",
       "    <tr style=\"text-align: right;\">\n",
       "      <th></th>\n",
       "      <th>class</th>\n",
       "      <th>dir</th>\n",
       "      <th>image_file</th>\n",
       "    </tr>\n",
       "  </thead>\n",
       "  <tbody>\n",
       "    <tr>\n",
       "      <th>567</th>\n",
       "      <td>fake</td>\n",
       "      <td>train/training_fake</td>\n",
       "      <td>train/training_fake/609.jpg</td>\n",
       "    </tr>\n",
       "    <tr>\n",
       "      <th>1326</th>\n",
       "      <td>real</td>\n",
       "      <td>train/training_real</td>\n",
       "      <td>train/training_real/1566.jpg</td>\n",
       "    </tr>\n",
       "    <tr>\n",
       "      <th>1061</th>\n",
       "      <td>real</td>\n",
       "      <td>train/training_real</td>\n",
       "      <td>train/training_real/1301.jpg</td>\n",
       "    </tr>\n",
       "    <tr>\n",
       "      <th>115</th>\n",
       "      <td>fake</td>\n",
       "      <td>train/training_fake</td>\n",
       "      <td>train/training_fake/201.jpg</td>\n",
       "    </tr>\n",
       "    <tr>\n",
       "      <th>453</th>\n",
       "      <td>fake</td>\n",
       "      <td>train/training_fake</td>\n",
       "      <td>train/training_fake/506.jpg</td>\n",
       "    </tr>\n",
       "    <tr>\n",
       "      <th>...</th>\n",
       "      <td>...</td>\n",
       "      <td>...</td>\n",
       "      <td>...</td>\n",
       "    </tr>\n",
       "    <tr>\n",
       "      <th>1205</th>\n",
       "      <td>real</td>\n",
       "      <td>train/training_real</td>\n",
       "      <td>train/training_real/1445.jpg</td>\n",
       "    </tr>\n",
       "    <tr>\n",
       "      <th>1111</th>\n",
       "      <td>real</td>\n",
       "      <td>train/training_real</td>\n",
       "      <td>train/training_real/1351.jpg</td>\n",
       "    </tr>\n",
       "    <tr>\n",
       "      <th>128</th>\n",
       "      <td>fake</td>\n",
       "      <td>train/training_fake</td>\n",
       "      <td>train/training_fake/213.jpg</td>\n",
       "    </tr>\n",
       "    <tr>\n",
       "      <th>405</th>\n",
       "      <td>fake</td>\n",
       "      <td>train/training_fake</td>\n",
       "      <td>train/training_fake/463.jpg</td>\n",
       "    </tr>\n",
       "    <tr>\n",
       "      <th>1040</th>\n",
       "      <td>real</td>\n",
       "      <td>train/training_real</td>\n",
       "      <td>train/training_real/1280.jpg</td>\n",
       "    </tr>\n",
       "  </tbody>\n",
       "</table>\n",
       "<p>342 rows × 3 columns</p>\n",
       "</div>"
      ],
      "text/plain": [
       "     class                  dir                    image_file\n",
       "567   fake  train/training_fake   train/training_fake/609.jpg\n",
       "1326  real  train/training_real  train/training_real/1566.jpg\n",
       "1061  real  train/training_real  train/training_real/1301.jpg\n",
       "115   fake  train/training_fake   train/training_fake/201.jpg\n",
       "453   fake  train/training_fake   train/training_fake/506.jpg\n",
       "...    ...                  ...                           ...\n",
       "1205  real  train/training_real  train/training_real/1445.jpg\n",
       "1111  real  train/training_real  train/training_real/1351.jpg\n",
       "128   fake  train/training_fake   train/training_fake/213.jpg\n",
       "405   fake  train/training_fake   train/training_fake/463.jpg\n",
       "1040  real  train/training_real  train/training_real/1280.jpg\n",
       "\n",
       "[342 rows x 3 columns]"
      ]
     },
     "execution_count": 8,
     "metadata": {},
     "output_type": "execute_result"
    }
   ],
   "source": [
    "test_df"
   ]
  },
  {
   "cell_type": "code",
   "execution_count": 9,
   "metadata": {},
   "outputs": [],
   "source": [
    "#for name in tst_dir:\n",
    "#    im_dir = \"test\"\n",
    "#    im_class = 'fake'\n",
    "#    test_df.loc[test_df.shape[0]] = [im_class, im_dir, \"test/\"+name]"
   ]
  },
  {
   "cell_type": "code",
   "execution_count": 10,
   "metadata": {},
   "outputs": [],
   "source": [
    "train_df.to_csv('train.csv',index=False)\n",
    "test_df.to_csv('test.csv', index=False)"
   ]
  },
  {
   "cell_type": "code",
   "execution_count": 11,
   "metadata": {},
   "outputs": [],
   "source": [
    "train_df = pd.read_csv('train.csv')\n",
    "test_df = pd.read_csv('test.csv')"
   ]
  },
  {
   "cell_type": "code",
   "execution_count": 12,
   "metadata": {},
   "outputs": [],
   "source": [
    "def batch_generator(df, batchsize=32):   \n",
    "    \n",
    "    while True:       \n",
    "                \n",
    "        #Generate random numbers to pick images from dataset\n",
    "        batch_nums = np.random.randint(0,df.shape[0], batchsize)\n",
    "        \n",
    "        #Initialize batch images array\n",
    "        batch_images = np.zeros((batchsize,img_size, img_size,img_depth))\n",
    "        \n",
    "        #Initiate batch label array\n",
    "        batch_labels = np.zeros((batchsize, len(class_names)))\n",
    "        \n",
    "        for i in range(batchsize):\n",
    "            \n",
    "            #Load image\n",
    "            flower_image =  tf.keras.preprocessing.image.load_img(df.loc[batch_nums[i]]['image_file'],\n",
    "                                                                  target_size=(img_size, img_size))\n",
    "            #Convert to array\n",
    "            flower_image = tf.keras.preprocessing.image.img_to_array(flower_image)\n",
    "            \n",
    "            #Get the class\n",
    "            img_class = df.loc[batch_nums[i]]['class']\n",
    "            #Conver class to number\n",
    "            img_class = class_names.index(img_class)\n",
    "            #Convert class to one hot encoding\n",
    "            img_class = tf.keras.utils.to_categorical(img_class, num_classes=len(class_names))\n",
    "            \n",
    "            #Update batch images and class arrays\n",
    "            batch_images[i] = flower_image\n",
    "            batch_labels[i] = img_class        \n",
    "        \n",
    "        yield batch_images, batch_labels          "
   ]
  },
  {
   "cell_type": "code",
   "execution_count": 13,
   "metadata": {},
   "outputs": [],
   "source": [
    "img_size = 32\n",
    "img_depth = 3"
   ]
  },
  {
   "cell_type": "code",
   "execution_count": 14,
   "metadata": {},
   "outputs": [
    {
     "data": {
      "text/plain": [
       "['fake', 'real']"
      ]
     },
     "execution_count": 14,
     "metadata": {},
     "output_type": "execute_result"
    }
   ],
   "source": [
    "class_names = train_df['class'].unique().tolist()\n",
    "class_names"
   ]
  },
  {
   "cell_type": "code",
   "execution_count": 15,
   "metadata": {},
   "outputs": [],
   "source": [
    "import tensorflow as tf\n",
    "\n",
    "#Initialize model, reshape & normalize data\n",
    "model = tf.keras.models.Sequential()\n",
    "\n",
    "#Add Layers\n",
    "model.add(tf.keras.layers.BatchNormalization(input_shape=(img_size,img_size,3,)))\n",
    "model.add(tf.keras.layers.Conv2D(32, kernel_size=(3,3), activation='relu'))\n",
    "model.add(tf.keras.layers.Conv2D(64, kernel_size=(3,3), activation='relu'))\n",
    "model.add(tf.keras.layers.MaxPool2D(pool_size=(2,2)))\n",
    "model.add(tf.keras.layers.Flatten())\n",
    "model.add(tf.keras.layers.Dense(128, activation='relu'))\n",
    "model.add(tf.keras.layers.Dropout(0.25))\n",
    "model.add(tf.keras.layers.Dense(len(class_names), activation='softmax'))"
   ]
  },
  {
   "cell_type": "code",
   "execution_count": 16,
   "metadata": {},
   "outputs": [],
   "source": [
    "model.compile(optimizer='sgd', loss='categorical_crossentropy', metrics=['accuracy'])"
   ]
  },
  {
   "cell_type": "code",
   "execution_count": 17,
   "metadata": {},
   "outputs": [
    {
     "name": "stdout",
     "output_type": "stream",
     "text": [
      "Model: \"sequential\"\n",
      "_________________________________________________________________\n",
      "Layer (type)                 Output Shape              Param #   \n",
      "=================================================================\n",
      "batch_normalization (BatchNo (None, 32, 32, 3)         12        \n",
      "_________________________________________________________________\n",
      "conv2d (Conv2D)              (None, 30, 30, 32)        896       \n",
      "_________________________________________________________________\n",
      "conv2d_1 (Conv2D)            (None, 28, 28, 64)        18496     \n",
      "_________________________________________________________________\n",
      "max_pooling2d (MaxPooling2D) (None, 14, 14, 64)        0         \n",
      "_________________________________________________________________\n",
      "flatten (Flatten)            (None, 12544)             0         \n",
      "_________________________________________________________________\n",
      "dense (Dense)                (None, 128)               1605760   \n",
      "_________________________________________________________________\n",
      "dropout (Dropout)            (None, 128)               0         \n",
      "_________________________________________________________________\n",
      "dense_1 (Dense)              (None, 2)                 258       \n",
      "=================================================================\n",
      "Total params: 1,625,422\n",
      "Trainable params: 1,625,416\n",
      "Non-trainable params: 6\n",
      "_________________________________________________________________\n"
     ]
    }
   ],
   "source": [
    "model.summary()"
   ]
  },
  {
   "cell_type": "code",
   "execution_count": 18,
   "metadata": {},
   "outputs": [],
   "source": [
    "#Create train and test generator\n",
    "batchsize = 64\n",
    "train_generator = batch_generator(train_df, batchsize=batchsize) #batchsize can be changed\n",
    "test_generator = batch_generator(test_df, batchsize=batchsize)"
   ]
  },
  {
   "cell_type": "code",
   "execution_count": null,
   "metadata": {
    "scrolled": true
   },
   "outputs": [
    {
     "name": "stderr",
     "output_type": "stream",
     "text": [
      "C:\\Users\\subha\\anaconda3\\lib\\site-packages\\tensorflow\\python\\keras\\engine\\training.py:1844: UserWarning: `Model.fit_generator` is deprecated and will be removed in a future version. Please use `Model.fit`, which supports generators.\n",
      "  warnings.warn('`Model.fit_generator` is deprecated and '\n"
     ]
    },
    {
     "name": "stdout",
     "output_type": "stream",
     "text": [
      "Epoch 1/10\n",
      " 7/21 [=========>....................] - ETA: 15s - loss: 0.7051 - accuracy: 0.5392"
     ]
    }
   ],
   "source": [
    "model.fit_generator(train_generator, \n",
    "                          epochs=10,\n",
    "                          steps_per_epoch= train_df.shape[0]//batchsize,\n",
    "                          validation_data=test_generator,\n",
    "                          validation_steps = test_df.shape[0]//batchsize)"
   ]
  },
  {
   "cell_type": "code",
   "execution_count": null,
   "metadata": {},
   "outputs": [],
   "source": [
    "tst_dir = os.listdir(\"test/\")\n",
    "test_image = []\n",
    "for i in tst_dir:\n",
    "    test_image.append('test/'+i)\n",
    "test_image"
   ]
  },
  {
   "cell_type": "code",
   "execution_count": null,
   "metadata": {},
   "outputs": [],
   "source": [
    "test_model_pred = []\n",
    "for j in test_image:\n",
    "    inp_image = tf.keras.preprocessing.image.load_img(j)\n",
    "    model_input = inp_image.resize((32,32))\n",
    "    model_input = tf.keras.preprocessing.image.img_to_array(model_input)\n",
    "    model_input = np.expand_dims(model_input, axis=0)\n",
    "    pred = model.predict(model_input)\n",
    "    test_model_pred.append(np.argmax(pred))"
   ]
  },
  {
   "cell_type": "code",
   "execution_count": null,
   "metadata": {},
   "outputs": [],
   "source": [
    "test_image1 = [k.strip('test/') for k in test_image]\n",
    "test_image2 = [k.strip('.jpg') for k in test_image1]"
   ]
  },
  {
   "cell_type": "code",
   "execution_count": null,
   "metadata": {},
   "outputs": [],
   "source": [
    "submission_df = pd.DataFrame(list(zip(test_image2, test_model_pred)),columns =['file_id', 'label'])"
   ]
  },
  {
   "cell_type": "code",
   "execution_count": null,
   "metadata": {},
   "outputs": [],
   "source": [
    "submission_df"
   ]
  },
  {
   "cell_type": "code",
   "execution_count": null,
   "metadata": {},
   "outputs": [],
   "source": [
    "submission_df.to_csv(\"Final_submission.csv\")"
   ]
  },
  {
   "cell_type": "code",
   "execution_count": null,
   "metadata": {},
   "outputs": [],
   "source": []
  }
 ],
 "metadata": {
  "kernelspec": {
   "display_name": "Python 3",
   "language": "python",
   "name": "python3"
  },
  "language_info": {
   "codemirror_mode": {
    "name": "ipython",
    "version": 3
   },
   "file_extension": ".py",
   "mimetype": "text/x-python",
   "name": "python",
   "nbconvert_exporter": "python",
   "pygments_lexer": "ipython3",
   "version": "3.8.3"
  }
 },
 "nbformat": 4,
 "nbformat_minor": 4
}
