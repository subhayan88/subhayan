{
 "cells": [
  {
   "cell_type": "code",
   "execution_count": 1,
   "metadata": {
    "id": "XdmmRLqjwkdA"
   },
   "outputs": [],
   "source": [
    "import numpy as np\n",
    "import pandas as pd"
   ]
  },
  {
   "cell_type": "code",
   "execution_count": 2,
   "metadata": {
    "id": "awyDug-yw7yI"
   },
   "outputs": [],
   "source": [
    "data = pd.read_csv(\"TrainData.txt\", sep='\\t')"
   ]
  },
  {
   "cell_type": "code",
   "execution_count": 3,
   "metadata": {
    "colab": {
     "base_uri": "https://localhost:8080/",
     "height": 203
    },
    "id": "eVpfoTC8xSa3",
    "outputId": "eefab5c0-0d1e-47e0-d2b1-4a0ddfa09301"
   },
   "outputs": [
    {
     "data": {
      "text/html": [
       "<div>\n",
       "<style scoped>\n",
       "    .dataframe tbody tr th:only-of-type {\n",
       "        vertical-align: middle;\n",
       "    }\n",
       "\n",
       "    .dataframe tbody tr th {\n",
       "        vertical-align: top;\n",
       "    }\n",
       "\n",
       "    .dataframe thead th {\n",
       "        text-align: right;\n",
       "    }\n",
       "</style>\n",
       "<table border=\"1\" class=\"dataframe\">\n",
       "  <thead>\n",
       "    <tr style=\"text-align: right;\">\n",
       "      <th></th>\n",
       "      <th>Answer</th>\n",
       "      <th>Question</th>\n",
       "    </tr>\n",
       "  </thead>\n",
       "  <tbody>\n",
       "    <tr>\n",
       "      <th>0</th>\n",
       "      <td>Yes. It's absolutely beautiful today.</td>\n",
       "      <td>The weather is great isn't it?</td>\n",
       "    </tr>\n",
       "    <tr>\n",
       "      <th>1</th>\n",
       "      <td>yes, i like that one, too.</td>\n",
       "      <td>that one. the one that's all black.</td>\n",
       "    </tr>\n",
       "    <tr>\n",
       "      <th>2</th>\n",
       "      <td>it's really nice.</td>\n",
       "      <td>i got it from macy's.</td>\n",
       "    </tr>\n",
       "    <tr>\n",
       "      <th>3</th>\n",
       "      <td>at 8:00 p.m.</td>\n",
       "      <td>when does it start?</td>\n",
       "    </tr>\n",
       "    <tr>\n",
       "      <th>4</th>\n",
       "      <td>nothing, except my favorite color is blue.</td>\n",
       "      <td>what's the matter with green eyes?</td>\n",
       "    </tr>\n",
       "  </tbody>\n",
       "</table>\n",
       "</div>"
      ],
      "text/plain": [
       "                                       Answer                             Question\n",
       "0       Yes. It's absolutely beautiful today.       The weather is great isn't it?\n",
       "1                  yes, i like that one, too.  that one. the one that's all black.\n",
       "2                           it's really nice.                i got it from macy's.\n",
       "3                                at 8:00 p.m.                  when does it start?\n",
       "4  nothing, except my favorite color is blue.   what's the matter with green eyes?"
      ]
     },
     "execution_count": 3,
     "metadata": {
      "tags": []
     },
     "output_type": "execute_result"
    }
   ],
   "source": [
    "data.head()"
   ]
  },
  {
   "cell_type": "code",
   "execution_count": 7,
   "metadata": {
    "colab": {
     "base_uri": "https://localhost:8080/"
    },
    "id": "xgYlBtwFyJZA",
    "outputId": "21e6e108-26c5-4dcf-87d2-890275dbaefe"
   },
   "outputs": [
    {
     "name": "stdout",
     "output_type": "stream",
     "text": [
      "Collecting chatterbot\n",
      "  Downloading ChatterBot-1.0.8-py2.py3-none-any.whl (63 kB)\n",
      "\u001b[?25l\r",
      "\u001b[K     |█████▏                          | 10 kB 27.5 MB/s eta 0:00:01\r",
      "\u001b[K     |██████████▎                     | 20 kB 27.0 MB/s eta 0:00:01\r",
      "\u001b[K     |███████████████▌                | 30 kB 11.5 MB/s eta 0:00:01\r",
      "\u001b[K     |████████████████████▋           | 40 kB 8.9 MB/s eta 0:00:01\r",
      "\u001b[K     |█████████████████████████▊      | 51 kB 5.2 MB/s eta 0:00:01\r",
      "\u001b[K     |███████████████████████████████ | 61 kB 5.3 MB/s eta 0:00:01\r",
      "\u001b[K     |████████████████████████████████| 63 kB 1.5 MB/s \n",
      "\u001b[?25hRequirement already satisfied: pytz in /usr/local/lib/python3.7/dist-packages (from chatterbot) (2018.9)\n",
      "Collecting mathparse<0.2,>=0.1\n",
      "  Downloading mathparse-0.1.2-py3-none-any.whl (7.2 kB)\n",
      "Collecting sqlalchemy<1.4,>=1.3\n",
      "  Downloading SQLAlchemy-1.3.24-cp37-cp37m-manylinux2010_x86_64.whl (1.3 MB)\n",
      "\u001b[K     |████████████████████████████████| 1.3 MB 8.9 MB/s \n",
      "\u001b[?25hRequirement already satisfied: python-dateutil<2.9,>=2.8 in /usr/local/lib/python3.7/dist-packages (from chatterbot) (2.8.1)\n",
      "Requirement already satisfied: six>=1.5 in /usr/local/lib/python3.7/dist-packages (from python-dateutil<2.9,>=2.8->chatterbot) (1.15.0)\n",
      "Installing collected packages: sqlalchemy, mathparse, chatterbot\n",
      "  Attempting uninstall: sqlalchemy\n",
      "    Found existing installation: SQLAlchemy 1.4.20\n",
      "    Uninstalling SQLAlchemy-1.4.20:\n",
      "      Successfully uninstalled SQLAlchemy-1.4.20\n",
      "Successfully installed chatterbot-1.0.8 mathparse-0.1.2 sqlalchemy-1.3.24\n"
     ]
    }
   ],
   "source": [
    "#!pip install chatterbot"
   ]
  },
  {
   "cell_type": "code",
   "execution_count": 8,
   "metadata": {
    "colab": {
     "base_uri": "https://localhost:8080/"
    },
    "id": "XNXGWwHS2htd",
    "outputId": "ca754bbd-8e64-48cd-9275-65d738c85282"
   },
   "outputs": [
    {
     "name": "stdout",
     "output_type": "stream",
     "text": [
      "Collecting chatterbot_corpus\n",
      "  Downloading chatterbot_corpus-1.2.0-py2.py3-none-any.whl (117 kB)\n",
      "\u001b[?25l\r",
      "\u001b[K     |██▉                             | 10 kB 24.9 MB/s eta 0:00:01\r",
      "\u001b[K     |█████▋                          | 20 kB 26.4 MB/s eta 0:00:01\r",
      "\u001b[K     |████████▍                       | 30 kB 10.9 MB/s eta 0:00:01\r",
      "\u001b[K     |███████████▏                    | 40 kB 9.0 MB/s eta 0:00:01\r",
      "\u001b[K     |██████████████                  | 51 kB 5.0 MB/s eta 0:00:01\r",
      "\u001b[K     |████████████████▊               | 61 kB 5.4 MB/s eta 0:00:01\r",
      "\u001b[K     |███████████████████▋            | 71 kB 5.4 MB/s eta 0:00:01\r",
      "\u001b[K     |██████████████████████▍         | 81 kB 6.0 MB/s eta 0:00:01\r",
      "\u001b[K     |█████████████████████████▏      | 92 kB 5.8 MB/s eta 0:00:01\r",
      "\u001b[K     |████████████████████████████    | 102 kB 5.2 MB/s eta 0:00:01\r",
      "\u001b[K     |██████████████████████████████▊ | 112 kB 5.2 MB/s eta 0:00:01\r",
      "\u001b[K     |████████████████████████████████| 117 kB 5.2 MB/s \n",
      "\u001b[?25hRequirement already satisfied: PyYAML<4.0,>=3.12 in /usr/local/lib/python3.7/dist-packages (from chatterbot_corpus) (3.13)\n",
      "Installing collected packages: chatterbot-corpus\n",
      "Successfully installed chatterbot-corpus-1.2.0\n"
     ]
    }
   ],
   "source": [
    "#!pip install chatterbot_corpus"
   ]
  },
  {
   "cell_type": "code",
   "execution_count": 9,
   "metadata": {
    "id": "zNntpajU2l2A"
   },
   "outputs": [],
   "source": [
    "from chatterbot import ChatBot"
   ]
  },
  {
   "cell_type": "code",
   "execution_count": 10,
   "metadata": {
    "id": "EbVBGTfL2saE"
   },
   "outputs": [],
   "source": [
    "#bot = ChatBot('Subhayan', storage_adapter=\"chatterbot.storage.SQLStorageAdapter\",\n",
    "#logic_adapters=['chatterbot.logic.BestMatch',])"
   ]
  },
  {
   "cell_type": "code",
   "execution_count": 11,
   "metadata": {
    "id": "g4cAleffWUlU"
   },
   "outputs": [],
   "source": [
    "bot = ChatBot('Subhayan', storage_adapter=\"chatterbot.storage.SQLStorageAdapter\",\n",
    "    logic_adapters=[\n",
    "        {\n",
    "            'import_path': 'chatterbot.logic.BestMatch',\n",
    "            'default_response': 'I am sorry, but I do not understand.',\n",
    "            'maximum_similarity_threshold': 0.90,\n",
    "            \"statement_comparison_function\": 'chatterbot.comparisons.LevenshteinDistance',\n",
    "        },\n",
    "\n",
    "    ])"
   ]
  },
  {
   "cell_type": "code",
   "execution_count": 12,
   "metadata": {
    "id": "v9s2-yRH2xkr"
   },
   "outputs": [],
   "source": [
    "from chatterbot.trainers import ListTrainer\n",
    "trainer = ListTrainer(bot)"
   ]
  },
  {
   "cell_type": "code",
   "execution_count": 13,
   "metadata": {
    "id": "Z0iiJu7WMfC6"
   },
   "outputs": [],
   "source": [
    "tr_list = []\n",
    "for i in range(len(data)):\n",
    "  tr1 = \"'\"+str(data.iloc[i,1]) + \"'\"\n",
    "  tr2 = \"'\" + str(data.iloc[i,0]) + \"'\"\n",
    "  tr_list.append(tr1)\n",
    "  tr_list.append(tr2)"
   ]
  },
  {
   "cell_type": "code",
   "execution_count": 14,
   "metadata": {
    "colab": {
     "base_uri": "https://localhost:8080/"
    },
    "id": "9erxl_R530rA",
    "outputId": "b6437bf2-2437-4c8c-d276-071a9b7e1253"
   },
   "outputs": [
    {
     "name": "stdout",
     "output_type": "stream",
     "text": [
      "List Trainer: [####################] 100%\n"
     ]
    }
   ],
   "source": [
    "trainer.train(tr_list)"
   ]
  },
  {
   "cell_type": "code",
   "execution_count": 15,
   "metadata": {
    "colab": {
     "base_uri": "https://localhost:8080/"
    },
    "id": "UzEs3b-N4kMj",
    "outputId": "4d425402-58fb-4a9e-842c-2ef5910ff0cf"
   },
   "outputs": [
    {
     "name": "stdout",
     "output_type": "stream",
     "text": [
      "' you are an addict'\n"
     ]
    }
   ],
   "source": [
    "response = bot.get_response(\"you are a pothead\")\n",
    "print(response)"
   ]
  },
  {
   "cell_type": "code",
   "execution_count": 16,
   "metadata": {
    "id": "w0VQcql6N-Iq"
   },
   "outputs": [],
   "source": [
    "test = pd.read_csv(\"TestData.csv\")"
   ]
  },
  {
   "cell_type": "code",
   "execution_count": 17,
   "metadata": {
    "colab": {
     "base_uri": "https://localhost:8080/"
    },
    "id": "zv_dHu_1gQF5",
    "outputId": "95543efd-ebc5-49b6-9870-c578b52d81aa"
   },
   "outputs": [
    {
     "name": "stderr",
     "output_type": "stream",
     "text": [
      "Exception during reset or similar\n",
      "Traceback (most recent call last):\n",
      "  File \"/usr/local/lib/python3.7/dist-packages/sqlalchemy/pool/base.py\", line 697, in _finalize_fairy\n",
      "    fairy._reset(pool)\n",
      "  File \"/usr/local/lib/python3.7/dist-packages/sqlalchemy/pool/base.py\", line 893, in _reset\n",
      "    pool._dialect.do_rollback(self)\n",
      "  File \"/usr/local/lib/python3.7/dist-packages/sqlalchemy/engine/default.py\", line 558, in do_rollback\n",
      "    dbapi_connection.rollback()\n",
      "sqlite3.ProgrammingError: SQLite objects created in a thread can only be used in that same thread. The object was created in thread id 140319009322880 and this is thread id 140318385600256.\n",
      "Exception closing connection <sqlite3.Connection object at 0x7f9e603d8490>\n",
      "Traceback (most recent call last):\n",
      "  File \"/usr/local/lib/python3.7/dist-packages/sqlalchemy/pool/base.py\", line 697, in _finalize_fairy\n",
      "    fairy._reset(pool)\n",
      "  File \"/usr/local/lib/python3.7/dist-packages/sqlalchemy/pool/base.py\", line 893, in _reset\n",
      "    pool._dialect.do_rollback(self)\n",
      "  File \"/usr/local/lib/python3.7/dist-packages/sqlalchemy/engine/default.py\", line 558, in do_rollback\n",
      "    dbapi_connection.rollback()\n",
      "sqlite3.ProgrammingError: SQLite objects created in a thread can only be used in that same thread. The object was created in thread id 140319009322880 and this is thread id 140318385600256.\n",
      "\n",
      "During handling of the above exception, another exception occurred:\n",
      "\n",
      "Traceback (most recent call last):\n",
      "  File \"/usr/local/lib/python3.7/dist-packages/sqlalchemy/pool/base.py\", line 270, in _close_connection\n",
      "    self._dialect.do_close(connection)\n",
      "  File \"/usr/local/lib/python3.7/dist-packages/sqlalchemy/engine/default.py\", line 564, in do_close\n",
      "    dbapi_connection.close()\n",
      "sqlite3.ProgrammingError: SQLite objects created in a thread can only be used in that same thread. The object was created in thread id 140319009322880 and this is thread id 140318385600256.\n"
     ]
    }
   ],
   "source": [
    "answer = []\n",
    "for i in test['Question']:\n",
    "  response = bot.get_response(i)\n",
    "  answer.append(response)"
   ]
  },
  {
   "cell_type": "code",
   "execution_count": 18,
   "metadata": {
    "id": "cLb43yixgXIv"
   },
   "outputs": [],
   "source": [
    "test['Answer'] = answer"
   ]
  },
  {
   "cell_type": "code",
   "execution_count": 19,
   "metadata": {
    "id": "H83MWHpnjb72"
   },
   "outputs": [],
   "source": [
    "test.to_csv(\"SubhayanSaha_1.csv\")"
   ]
  },
  {
   "cell_type": "code",
   "execution_count": null,
   "metadata": {
    "id": "FDUtcKxfj3Ka"
   },
   "outputs": [],
   "source": []
  }
 ],
 "metadata": {
  "colab": {
   "collapsed_sections": [],
   "name": "Hackathon_chatbot.ipynb",
   "provenance": []
  },
  "kernelspec": {
   "display_name": "Python 3",
   "language": "python",
   "name": "python3"
  },
  "language_info": {
   "codemirror_mode": {
    "name": "ipython",
    "version": 3
   },
   "file_extension": ".py",
   "mimetype": "text/x-python",
   "name": "python",
   "nbconvert_exporter": "python",
   "pygments_lexer": "ipython3",
   "version": "3.8.3"
  }
 },
 "nbformat": 4,
 "nbformat_minor": 1
}
