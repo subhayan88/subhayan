{
 "cells": [
  {
   "cell_type": "code",
   "execution_count": 1,
   "metadata": {
    "id": "XdmmRLqjwkdA"
   },
   "outputs": [],
   "source": [
    "import numpy as np\n",
    "import pandas as pd"
   ]
  },
  {
   "cell_type": "code",
   "execution_count": 2,
   "metadata": {
    "id": "awyDug-yw7yI"
   },
   "outputs": [],
   "source": [
    "data = pd.read_csv(\"TrainData.txt\", sep='\\t')"
   ]
  },
  {
   "cell_type": "code",
   "execution_count": 3,
   "metadata": {
    "colab": {
     "base_uri": "https://localhost:8080/",
     "height": 203
    },
    "id": "eVpfoTC8xSa3",
    "outputId": "eefab5c0-0d1e-47e0-d2b1-4a0ddfa09301"
   },
   "outputs": [
    {
     "data": {
      "text/html": [
       "<div>\n",
       "<style scoped>\n",
       "    .dataframe tbody tr th:only-of-type {\n",
       "        vertical-align: middle;\n",
       "    }\n",
       "\n",
       "    .dataframe tbody tr th {\n",
       "        vertical-align: top;\n",
       "    }\n",
       "\n",
       "    .dataframe thead th {\n",
       "        text-align: right;\n",
       "    }\n",
       "</style>\n",
       "<table border=\"1\" class=\"dataframe\">\n",
       "  <thead>\n",
       "    <tr style=\"text-align: right;\">\n",
       "      <th></th>\n",
       "      <th>Answer</th>\n",
       "      <th>Question</th>\n",
       "    </tr>\n",
       "  </thead>\n",
       "  <tbody>\n",
       "    <tr>\n",
       "      <th>0</th>\n",
       "      <td>Yes. It's absolutely beautiful today.</td>\n",
       "      <td>The weather is great isn't it?</td>\n",
       "    </tr>\n",
       "    <tr>\n",
       "      <th>1</th>\n",
       "      <td>yes, i like that one, too.</td>\n",
       "      <td>that one. the one that's all black.</td>\n",
       "    </tr>\n",
       "    <tr>\n",
       "      <th>2</th>\n",
       "      <td>it's really nice.</td>\n",
       "      <td>i got it from macy's.</td>\n",
       "    </tr>\n",
       "    <tr>\n",
       "      <th>3</th>\n",
       "      <td>at 8:00 p.m.</td>\n",
       "      <td>when does it start?</td>\n",
       "    </tr>\n",
       "    <tr>\n",
       "      <th>4</th>\n",
       "      <td>nothing, except my favorite color is blue.</td>\n",
       "      <td>what's the matter with green eyes?</td>\n",
       "    </tr>\n",
       "  </tbody>\n",
       "</table>\n",
       "</div>"
      ],
      "text/plain": [
       "                                       Answer  \\\n",
       "0       Yes. It's absolutely beautiful today.   \n",
       "1                  yes, i like that one, too.   \n",
       "2                           it's really nice.   \n",
       "3                                at 8:00 p.m.   \n",
       "4  nothing, except my favorite color is blue.   \n",
       "\n",
       "                              Question  \n",
       "0       The weather is great isn't it?  \n",
       "1  that one. the one that's all black.  \n",
       "2                i got it from macy's.  \n",
       "3                  when does it start?  \n",
       "4   what's the matter with green eyes?  "
      ]
     },
     "execution_count": 3,
     "metadata": {},
     "output_type": "execute_result"
    }
   ],
   "source": [
    "data.head()"
   ]
  },
  {
   "cell_type": "code",
   "execution_count": null,
   "metadata": {
    "colab": {
     "base_uri": "https://localhost:8080/"
    },
    "id": "xgYlBtwFyJZA",
    "outputId": "21e6e108-26c5-4dcf-87d2-890275dbaefe"
   },
   "outputs": [
    {
     "name": "stdout",
     "output_type": "stream",
     "text": [
      "Collecting chatterbot\n",
      "  Using cached ChatterBot-1.0.5-py2.py3-none-any.whl (67 kB)\n",
      "Collecting pint>=0.8.1\n",
      "  Downloading Pint-0.18-py2.py3-none-any.whl (209 kB)\n",
      "\u001b[K     |████████████████████████████████| 209 kB 1.3 MB/s eta 0:00:01\n",
      "\u001b[?25hCollecting pymongo<4.0,>=3.3\n",
      "  Downloading pymongo-3.12.1-cp38-cp38-macosx_10_9_x86_64.whl (395 kB)\n",
      "\u001b[K     |████████████████████████████████| 395 kB 9.7 MB/s eta 0:00:01\n",
      "\u001b[?25hCollecting mathparse<0.2,>=0.1\n",
      "  Downloading mathparse-0.1.2-py3-none-any.whl (7.2 kB)\n",
      "Collecting pyyaml<5.2,>=5.1\n",
      "  Downloading PyYAML-5.1.2.tar.gz (265 kB)\n",
      "\u001b[K     |████████████████████████████████| 265 kB 4.6 MB/s eta 0:00:01\n",
      "\u001b[?25hRequirement already satisfied: nltk<4.0,>=3.2 in /Users/subsaha/opt/anaconda3/lib/python3.8/site-packages (from chatterbot) (3.6.1)\n",
      "Requirement already satisfied: pytz in /Users/subsaha/opt/anaconda3/lib/python3.8/site-packages (from chatterbot) (2021.1)\n",
      "Collecting spacy<2.2,>=2.1\n",
      "  Using cached spacy-2.1.9.tar.gz (30.7 MB)\n",
      "  Installing build dependencies ... \u001b[?25l|"
     ]
    }
   ],
   "source": [
    "!pip install chatterbot"
   ]
  },
  {
   "cell_type": "code",
   "execution_count": null,
   "metadata": {
    "colab": {
     "base_uri": "https://localhost:8080/"
    },
    "id": "XNXGWwHS2htd",
    "outputId": "ca754bbd-8e64-48cd-9275-65d738c85282"
   },
   "outputs": [],
   "source": [
    "!pip install chatterbot_corpus"
   ]
  },
  {
   "cell_type": "code",
   "execution_count": null,
   "metadata": {
    "id": "zNntpajU2l2A"
   },
   "outputs": [],
   "source": [
    "from chatterbot import ChatBot"
   ]
  },
  {
   "cell_type": "code",
   "execution_count": null,
   "metadata": {
    "id": "EbVBGTfL2saE"
   },
   "outputs": [],
   "source": [
    "#bot = ChatBot('Subhayan', storage_adapter=\"chatterbot.storage.SQLStorageAdapter\",\n",
    "#logic_adapters=['chatterbot.logic.BestMatch',])"
   ]
  },
  {
   "cell_type": "code",
   "execution_count": null,
   "metadata": {
    "id": "g4cAleffWUlU"
   },
   "outputs": [],
   "source": [
    "bot = ChatBot('Subhayan', storage_adapter=\"chatterbot.storage.SQLStorageAdapter\",\n",
    "    logic_adapters=[\n",
    "        {\n",
    "            'import_path': 'chatterbot.logic.BestMatch',\n",
    "            'default_response': 'I am sorry, but I do not understand.',\n",
    "            'maximum_similarity_threshold': 0.90,\n",
    "            \"statement_comparison_function\": 'chatterbot.comparisons.LevenshteinDistance',\n",
    "        },\n",
    "\n",
    "    ])"
   ]
  },
  {
   "cell_type": "code",
   "execution_count": null,
   "metadata": {
    "id": "v9s2-yRH2xkr"
   },
   "outputs": [],
   "source": [
    "from chatterbot.trainers import ListTrainer\n",
    "trainer = ListTrainer(bot)"
   ]
  },
  {
   "cell_type": "code",
   "execution_count": null,
   "metadata": {
    "id": "Z0iiJu7WMfC6"
   },
   "outputs": [],
   "source": [
    "tr_list = []\n",
    "for i in range(len(data)):\n",
    "  tr1 = \"'\"+str(data.iloc[i,1]) + \"'\"\n",
    "  tr2 = \"'\" + str(data.iloc[i,0]) + \"'\"\n",
    "  tr_list.append(tr1)\n",
    "  tr_list.append(tr2)"
   ]
  },
  {
   "cell_type": "code",
   "execution_count": null,
   "metadata": {
    "colab": {
     "base_uri": "https://localhost:8080/"
    },
    "id": "9erxl_R530rA",
    "outputId": "b6437bf2-2437-4c8c-d276-071a9b7e1253"
   },
   "outputs": [],
   "source": [
    "trainer.train(tr_list)"
   ]
  },
  {
   "cell_type": "code",
   "execution_count": null,
   "metadata": {
    "colab": {
     "base_uri": "https://localhost:8080/"
    },
    "id": "UzEs3b-N4kMj",
    "outputId": "4d425402-58fb-4a9e-842c-2ef5910ff0cf"
   },
   "outputs": [],
   "source": [
    "response = bot.get_response(\"you are a pothead\")\n",
    "print(response)"
   ]
  },
  {
   "cell_type": "code",
   "execution_count": null,
   "metadata": {
    "id": "w0VQcql6N-Iq"
   },
   "outputs": [],
   "source": [
    "test = pd.read_csv(\"TestData.csv\")"
   ]
  },
  {
   "cell_type": "code",
   "execution_count": null,
   "metadata": {
    "colab": {
     "base_uri": "https://localhost:8080/"
    },
    "id": "zv_dHu_1gQF5",
    "outputId": "95543efd-ebc5-49b6-9870-c578b52d81aa"
   },
   "outputs": [],
   "source": [
    "answer = []\n",
    "for i in test['Question']:\n",
    "  response = bot.get_response(i)\n",
    "  answer.append(response)"
   ]
  },
  {
   "cell_type": "code",
   "execution_count": null,
   "metadata": {
    "id": "cLb43yixgXIv"
   },
   "outputs": [],
   "source": [
    "test['Answer'] = answer"
   ]
  },
  {
   "cell_type": "code",
   "execution_count": null,
   "metadata": {
    "id": "H83MWHpnjb72"
   },
   "outputs": [],
   "source": [
    "test.to_csv(\"SubhayanSaha_1.csv\")"
   ]
  },
  {
   "cell_type": "code",
   "execution_count": null,
   "metadata": {
    "id": "FDUtcKxfj3Ka"
   },
   "outputs": [],
   "source": []
  }
 ],
 "metadata": {
  "colab": {
   "collapsed_sections": [],
   "name": "Hackathon_chatbot.ipynb",
   "provenance": []
  },
  "kernelspec": {
   "display_name": "Python 3",
   "language": "python",
   "name": "python3"
  },
  "language_info": {
   "codemirror_mode": {
    "name": "ipython",
    "version": 3
   },
   "file_extension": ".py",
   "mimetype": "text/x-python",
   "name": "python",
   "nbconvert_exporter": "python",
   "pygments_lexer": "ipython3",
   "version": "3.8.8"
  }
 },
 "nbformat": 4,
 "nbformat_minor": 1
}
