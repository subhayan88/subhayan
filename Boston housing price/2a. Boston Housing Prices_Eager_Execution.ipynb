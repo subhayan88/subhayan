{
 "cells": [
  {
   "cell_type": "markdown",
   "metadata": {
    "id": "X_cdgs6Gtnsc"
   },
   "source": [
    "#### Load TensorFlow and Enable Eager Execution"
   ]
  },
  {
   "cell_type": "code",
   "execution_count": null,
   "metadata": {
    "id": "5b_EywEw4MMe"
   },
   "outputs": [],
   "source": [
    "import tensorflow as tf"
   ]
  },
  {
   "cell_type": "code",
   "execution_count": null,
   "metadata": {
    "colab": {
     "base_uri": "https://localhost:8080/",
     "height": 35
    },
    "executionInfo": {
     "elapsed": 3790,
     "status": "ok",
     "timestamp": 1607342347134,
     "user": {
      "displayName": "Sayan Dey",
      "photoUrl": "https://lh3.googleusercontent.com/a-/AOh14GgqVHJ9o6-7idGiRbNNd4iVc1VjzvuPnwmAnvEtD6U=s64",
      "userId": "03603580465490055794"
     },
     "user_tz": -330
    },
    "id": "mbkpLj1A4qbS",
    "outputId": "ac26fb26-e407-47f3-8452-2b18959a8a47"
   },
   "outputs": [
    {
     "data": {
      "application/vnd.google.colaboratory.intrinsic+json": {
       "type": "string"
      },
      "text/plain": [
       "'2.3.0'"
      ]
     },
     "execution_count": 2,
     "metadata": {
      "tags": []
     },
     "output_type": "execute_result"
    }
   ],
   "source": [
    "#Check tf version\n",
    "tf.__version__"
   ]
  },
  {
   "cell_type": "markdown",
   "metadata": {
    "id": "21W7saMGt1_F"
   },
   "source": [
    "#### Load Data"
   ]
  },
  {
   "cell_type": "code",
   "execution_count": null,
   "metadata": {
    "colab": {
     "base_uri": "https://localhost:8080/"
    },
    "executionInfo": {
     "elapsed": 5487,
     "status": "ok",
     "timestamp": 1607342348853,
     "user": {
      "displayName": "Sayan Dey",
      "photoUrl": "https://lh3.googleusercontent.com/a-/AOh14GgqVHJ9o6-7idGiRbNNd4iVc1VjzvuPnwmAnvEtD6U=s64",
      "userId": "03603580465490055794"
     },
     "user_tz": -330
    },
    "id": "2F_QcYwH4u7I",
    "outputId": "ac872411-8bb7-4263-97e0-e294932f4142"
   },
   "outputs": [
    {
     "name": "stdout",
     "output_type": "stream",
     "text": [
      "Downloading data from https://storage.googleapis.com/tensorflow/tf-keras-datasets/boston_housing.npz\n",
      "57344/57026 [==============================] - 0s 0us/step\n"
     ]
    }
   ],
   "source": [
    "(train_x, train_y),(_,_) = tf.keras.datasets.boston_housing.load_data(test_split=0)"
   ]
  },
  {
   "cell_type": "code",
   "execution_count": null,
   "metadata": {
    "colab": {
     "base_uri": "https://localhost:8080/"
    },
    "executionInfo": {
     "elapsed": 5481,
     "status": "ok",
     "timestamp": 1607342348854,
     "user": {
      "displayName": "Sayan Dey",
      "photoUrl": "https://lh3.googleusercontent.com/a-/AOh14GgqVHJ9o6-7idGiRbNNd4iVc1VjzvuPnwmAnvEtD6U=s64",
      "userId": "03603580465490055794"
     },
     "user_tz": -330
    },
    "id": "Aq0UwZU0iZhV",
    "outputId": "8c3173ac-858b-44e8-eebb-321f7389a9e2"
   },
   "outputs": [
    {
     "data": {
      "text/plain": [
       "(506, 13)"
      ]
     },
     "execution_count": 4,
     "metadata": {
      "tags": []
     },
     "output_type": "execute_result"
    }
   ],
   "source": [
    "train_x.shape"
   ]
  },
  {
   "cell_type": "code",
   "execution_count": null,
   "metadata": {
    "colab": {
     "base_uri": "https://localhost:8080/"
    },
    "executionInfo": {
     "elapsed": 3542,
     "status": "ok",
     "timestamp": 1607342368912,
     "user": {
      "displayName": "Sayan Dey",
      "photoUrl": "https://lh3.googleusercontent.com/a-/AOh14GgqVHJ9o6-7idGiRbNNd4iVc1VjzvuPnwmAnvEtD6U=s64",
      "userId": "03603580465490055794"
     },
     "user_tz": -330
    },
    "id": "_GauIClD233O",
    "outputId": "ec572aa7-7741-4b3f-b0ec-c0c606798c30"
   },
   "outputs": [
    {
     "data": {
      "text/plain": [
       "numpy.ndarray"
      ]
     },
     "execution_count": 5,
     "metadata": {
      "tags": []
     },
     "output_type": "execute_result"
    }
   ],
   "source": [
    "type(train_x)"
   ]
  },
  {
   "cell_type": "code",
   "execution_count": null,
   "metadata": {
    "colab": {
     "base_uri": "https://localhost:8080/"
    },
    "executionInfo": {
     "elapsed": 2854,
     "status": "ok",
     "timestamp": 1607342368914,
     "user": {
      "displayName": "Sayan Dey",
      "photoUrl": "https://lh3.googleusercontent.com/a-/AOh14GgqVHJ9o6-7idGiRbNNd4iVc1VjzvuPnwmAnvEtD6U=s64",
      "userId": "03603580465490055794"
     },
     "user_tz": -330
    },
    "id": "oY-bDhDSid0f",
    "outputId": "627d0fe8-4534-47be-9ae1-cdbf7fb4b468"
   },
   "outputs": [
    {
     "data": {
      "text/plain": [
       "(506,)"
      ]
     },
     "execution_count": 6,
     "metadata": {
      "tags": []
     },
     "output_type": "execute_result"
    }
   ],
   "source": [
    "train_y.shape"
   ]
  },
  {
   "cell_type": "code",
   "execution_count": null,
   "metadata": {
    "colab": {
     "base_uri": "https://localhost:8080/"
    },
    "executionInfo": {
     "elapsed": 2118,
     "status": "ok",
     "timestamp": 1607342368917,
     "user": {
      "displayName": "Sayan Dey",
      "photoUrl": "https://lh3.googleusercontent.com/a-/AOh14GgqVHJ9o6-7idGiRbNNd4iVc1VjzvuPnwmAnvEtD6U=s64",
      "userId": "03603580465490055794"
     },
     "user_tz": -330
    },
    "id": "mOd3HiMFLX9j",
    "outputId": "6d996785-a805-42db-c594-57721fba22dc"
   },
   "outputs": [
    {
     "data": {
      "text/plain": [
       "dtype('float64')"
      ]
     },
     "execution_count": 7,
     "metadata": {
      "tags": []
     },
     "output_type": "execute_result"
    }
   ],
   "source": [
    "train_x.dtype"
   ]
  },
  {
   "cell_type": "code",
   "execution_count": null,
   "metadata": {
    "id": "lADXNbMKGH_g"
   },
   "outputs": [],
   "source": [
    "train_x = train_x.astype('float32')\n",
    "train_y = train_y.astype('float32')"
   ]
  },
  {
   "cell_type": "code",
   "execution_count": null,
   "metadata": {
    "colab": {
     "base_uri": "https://localhost:8080/"
    },
    "executionInfo": {
     "elapsed": 3652,
     "status": "ok",
     "timestamp": 1607342392566,
     "user": {
      "displayName": "Sayan Dey",
      "photoUrl": "https://lh3.googleusercontent.com/a-/AOh14GgqVHJ9o6-7idGiRbNNd4iVc1VjzvuPnwmAnvEtD6U=s64",
      "userId": "03603580465490055794"
     },
     "user_tz": -330
    },
    "id": "TKDsS4vKGl3E",
    "outputId": "5e2f848e-449c-435b-97fe-46dcbab25127"
   },
   "outputs": [
    {
     "data": {
      "text/plain": [
       "(506, 13)"
      ]
     },
     "execution_count": 9,
     "metadata": {
      "tags": []
     },
     "output_type": "execute_result"
    }
   ],
   "source": [
    "train_x.shape"
   ]
  },
  {
   "cell_type": "code",
   "execution_count": null,
   "metadata": {
    "colab": {
     "base_uri": "https://localhost:8080/"
    },
    "executionInfo": {
     "elapsed": 3055,
     "status": "ok",
     "timestamp": 1607342392568,
     "user": {
      "displayName": "Sayan Dey",
      "photoUrl": "https://lh3.googleusercontent.com/a-/AOh14GgqVHJ9o6-7idGiRbNNd4iVc1VjzvuPnwmAnvEtD6U=s64",
      "userId": "03603580465490055794"
     },
     "user_tz": -330
    },
    "id": "FXk9VbBz_Mbh",
    "outputId": "1d0d0253-0143-41c7-d8de-388cec6b786b"
   },
   "outputs": [
    {
     "data": {
      "text/plain": [
       "(506,)"
      ]
     },
     "execution_count": 10,
     "metadata": {
      "tags": []
     },
     "output_type": "execute_result"
    }
   ],
   "source": [
    "train_y.shape"
   ]
  },
  {
   "cell_type": "markdown",
   "metadata": {
    "id": "fOIoE3qCt9Wp"
   },
   "source": [
    "#### Build Model"
   ]
  },
  {
   "cell_type": "markdown",
   "metadata": {
    "id": "uSMg5HDluCZG"
   },
   "source": [
    "Define Weights and Bias"
   ]
  },
  {
   "cell_type": "code",
   "execution_count": null,
   "metadata": {
    "id": "1qHkc0mS_KZP"
   },
   "outputs": [],
   "source": [
    "#We are initializing weights and Bias with Zero\n",
    "w = tf.zeros(shape=(13,1))\n",
    "b = tf.zeros(shape=(1))"
   ]
  },
  {
   "cell_type": "markdown",
   "metadata": {
    "id": "MP8U92hduNeV"
   },
   "source": [
    "Define a function to calculate prediction"
   ]
  },
  {
   "cell_type": "code",
   "execution_count": null,
   "metadata": {
    "id": "ARk9SVAb_jBA"
   },
   "outputs": [],
   "source": [
    "def prediction(x, w, b):\n",
    "    \n",
    "    xw_matmul = tf.matmul(x, w)\n",
    "    y = tf.add(xw_matmul, b)\n",
    "    \n",
    "    return y"
   ]
  },
  {
   "cell_type": "markdown",
   "metadata": {
    "id": "0QKcoDtbuhDl"
   },
   "source": [
    "Function to calculate Loss (Mean Squared Error)"
   ]
  },
  {
   "cell_type": "code",
   "execution_count": null,
   "metadata": {
    "id": "zEkRNWEa_q45"
   },
   "outputs": [],
   "source": [
    "def loss(y_actual, y_predicted):\n",
    "    \n",
    "    diff = y_actual - y_predicted\n",
    "    sqr = tf.square(diff)\n",
    "    avg = tf.reduce_mean(sqr)\n",
    "    \n",
    "    return avg"
   ]
  },
  {
   "cell_type": "markdown",
   "metadata": {
    "id": "2U2j7okPul9V"
   },
   "source": [
    "Function to train the Model\n",
    "\n",
    "1.   Record all the mathematical steps to calculate Loss. We will record the steps using GradientTape\n",
    "2.   Calculate Gradients of Loss w.r.t weights and bias\n",
    "3.   Update Weights and Bias based on gradients and learning rate\n",
    "\n"
   ]
  },
  {
   "cell_type": "code",
   "execution_count": null,
   "metadata": {
    "id": "r_Zu3u8IARZu"
   },
   "outputs": [],
   "source": [
    "def train(x, y_actual, w, b, learning_rate=0.01):\n",
    "    \n",
    "    #Record mathematical operations on 'tape' to calculate loss\n",
    "    with tf.GradientTape() as t:\n",
    "        \n",
    "        t.watch([w,b])\n",
    "        \n",
    "        current_prediction = prediction(x, w, b)\n",
    "        current_loss = loss(y_actual, current_prediction)\n",
    "    \n",
    "    #Calculate Gradients for Loss with respect to Weights and Bias\n",
    "    dw, db = t.gradient(current_loss,[w, b])\n",
    "    \n",
    "    #Update Weights and Bias\n",
    "    w = w - learning_rate*dw\n",
    "    b = b - learning_rate*db\n",
    "    \n",
    "    return w, b"
   ]
  },
  {
   "cell_type": "markdown",
   "metadata": {
    "id": "zcXDZ6N5vNw-"
   },
   "source": [
    "#### Start Training"
   ]
  },
  {
   "cell_type": "code",
   "execution_count": null,
   "metadata": {
    "colab": {
     "base_uri": "https://localhost:8080/"
    },
    "executionInfo": {
     "elapsed": 3333,
     "status": "ok",
     "timestamp": 1607342455955,
     "user": {
      "displayName": "Sayan Dey",
      "photoUrl": "https://lh3.googleusercontent.com/a-/AOh14GgqVHJ9o6-7idGiRbNNd4iVc1VjzvuPnwmAnvEtD6U=s64",
      "userId": "03603580465490055794"
     },
     "user_tz": -330
    },
    "id": "gOY134RfEpbq",
    "outputId": "6ed55d37-3faa-4292-c10d-80d2c89c23f1"
   },
   "outputs": [
    {
     "name": "stdout",
     "output_type": "stream",
     "text": [
      "Current Loss on iteration 0 19006894000.0\n",
      "Current Loss on iteration 1 7.446023e+17\n",
      "Current Loss on iteration 2 2.9173265e+25\n",
      "Current Loss on iteration 3 1.14299925e+33\n",
      "Current Loss on iteration 4 inf\n",
      "Current Loss on iteration 5 inf\n",
      "Current Loss on iteration 6 inf\n",
      "Current Loss on iteration 7 inf\n",
      "Current Loss on iteration 8 inf\n",
      "Current Loss on iteration 9 inf\n",
      "Current Loss on iteration 10 nan\n",
      "Current Loss on iteration 11 nan\n",
      "Current Loss on iteration 12 nan\n",
      "Current Loss on iteration 13 nan\n",
      "Current Loss on iteration 14 nan\n",
      "Current Loss on iteration 15 nan\n",
      "Current Loss on iteration 16 nan\n",
      "Current Loss on iteration 17 nan\n",
      "Current Loss on iteration 18 nan\n",
      "Current Loss on iteration 19 nan\n",
      "Current Loss on iteration 20 nan\n",
      "Current Loss on iteration 21 nan\n",
      "Current Loss on iteration 22 nan\n",
      "Current Loss on iteration 23 nan\n",
      "Current Loss on iteration 24 nan\n",
      "Current Loss on iteration 25 nan\n",
      "Current Loss on iteration 26 nan\n",
      "Current Loss on iteration 27 nan\n",
      "Current Loss on iteration 28 nan\n",
      "Current Loss on iteration 29 nan\n",
      "Current Loss on iteration 30 nan\n",
      "Current Loss on iteration 31 nan\n",
      "Current Loss on iteration 32 nan\n",
      "Current Loss on iteration 33 nan\n",
      "Current Loss on iteration 34 nan\n",
      "Current Loss on iteration 35 nan\n",
      "Current Loss on iteration 36 nan\n",
      "Current Loss on iteration 37 nan\n",
      "Current Loss on iteration 38 nan\n",
      "Current Loss on iteration 39 nan\n",
      "Current Loss on iteration 40 nan\n",
      "Current Loss on iteration 41 nan\n",
      "Current Loss on iteration 42 nan\n",
      "Current Loss on iteration 43 nan\n",
      "Current Loss on iteration 44 nan\n",
      "Current Loss on iteration 45 nan\n",
      "Current Loss on iteration 46 nan\n",
      "Current Loss on iteration 47 nan\n",
      "Current Loss on iteration 48 nan\n",
      "Current Loss on iteration 49 nan\n",
      "Current Loss on iteration 50 nan\n",
      "Current Loss on iteration 51 nan\n",
      "Current Loss on iteration 52 nan\n",
      "Current Loss on iteration 53 nan\n",
      "Current Loss on iteration 54 nan\n",
      "Current Loss on iteration 55 nan\n",
      "Current Loss on iteration 56 nan\n",
      "Current Loss on iteration 57 nan\n",
      "Current Loss on iteration 58 nan\n",
      "Current Loss on iteration 59 nan\n",
      "Current Loss on iteration 60 nan\n",
      "Current Loss on iteration 61 nan\n",
      "Current Loss on iteration 62 nan\n",
      "Current Loss on iteration 63 nan\n",
      "Current Loss on iteration 64 nan\n",
      "Current Loss on iteration 65 nan\n",
      "Current Loss on iteration 66 nan\n",
      "Current Loss on iteration 67 nan\n",
      "Current Loss on iteration 68 nan\n",
      "Current Loss on iteration 69 nan\n",
      "Current Loss on iteration 70 nan\n",
      "Current Loss on iteration 71 nan\n",
      "Current Loss on iteration 72 nan\n",
      "Current Loss on iteration 73 nan\n",
      "Current Loss on iteration 74 nan\n",
      "Current Loss on iteration 75 nan\n",
      "Current Loss on iteration 76 nan\n",
      "Current Loss on iteration 77 nan\n",
      "Current Loss on iteration 78 nan\n",
      "Current Loss on iteration 79 nan\n",
      "Current Loss on iteration 80 nan\n",
      "Current Loss on iteration 81 nan\n",
      "Current Loss on iteration 82 nan\n",
      "Current Loss on iteration 83 nan\n",
      "Current Loss on iteration 84 nan\n",
      "Current Loss on iteration 85 nan\n",
      "Current Loss on iteration 86 nan\n",
      "Current Loss on iteration 87 nan\n",
      "Current Loss on iteration 88 nan\n",
      "Current Loss on iteration 89 nan\n",
      "Current Loss on iteration 90 nan\n",
      "Current Loss on iteration 91 nan\n",
      "Current Loss on iteration 92 nan\n",
      "Current Loss on iteration 93 nan\n",
      "Current Loss on iteration 94 nan\n",
      "Current Loss on iteration 95 nan\n",
      "Current Loss on iteration 96 nan\n",
      "Current Loss on iteration 97 nan\n",
      "Current Loss on iteration 98 nan\n",
      "Current Loss on iteration 99 nan\n"
     ]
    }
   ],
   "source": [
    "#Train for 100 Steps\n",
    "for i in range(100):\n",
    "    \n",
    "    w, b = train(train_x, train_y, w, b, learning_rate=0.01)\n",
    "    print('Current Loss on iteration', i, \n",
    "          loss(train_y, prediction(train_x, w, b)).numpy())"
   ]
  },
  {
   "cell_type": "code",
   "execution_count": null,
   "metadata": {
    "colab": {
     "base_uri": "https://localhost:8080/"
    },
    "executionInfo": {
     "elapsed": 1188,
     "status": "ok",
     "timestamp": 1607342455956,
     "user": {
      "displayName": "Sayan Dey",
      "photoUrl": "https://lh3.googleusercontent.com/a-/AOh14GgqVHJ9o6-7idGiRbNNd4iVc1VjzvuPnwmAnvEtD6U=s64",
      "userId": "03603580465490055794"
     },
     "user_tz": -330
    },
    "id": "DDcxSozRxyer",
    "outputId": "f294e227-3c25-48dd-a23f-a6f9f8b81337"
   },
   "outputs": [
    {
     "name": "stdout",
     "output_type": "stream",
     "text": [
      "Weights:\n",
      " [[nan]\n",
      " [nan]\n",
      " [nan]\n",
      " [nan]\n",
      " [nan]\n",
      " [nan]\n",
      " [nan]\n",
      " [nan]\n",
      " [nan]\n",
      " [nan]\n",
      " [nan]\n",
      " [nan]\n",
      " [nan]]\n",
      "Bias:\n",
      " [nan]\n"
     ]
    }
   ],
   "source": [
    "#Check Weights and Bias\n",
    "print('Weights:\\n', w.numpy())\n",
    "print('Bias:\\n',b.numpy())"
   ]
  },
  {
   "cell_type": "code",
   "execution_count": null,
   "metadata": {
    "colab": {
     "base_uri": "https://localhost:8080/"
    },
    "executionInfo": {
     "elapsed": 1135,
     "status": "ok",
     "timestamp": 1607342456452,
     "user": {
      "displayName": "Sayan Dey",
      "photoUrl": "https://lh3.googleusercontent.com/a-/AOh14GgqVHJ9o6-7idGiRbNNd4iVc1VjzvuPnwmAnvEtD6U=s64",
      "userId": "03603580465490055794"
     },
     "user_tz": -330
    },
    "id": "Feh6mpAXlUd9",
    "outputId": "33958063-afe7-47e4-d422-27c7365f4057"
   },
   "outputs": [
    {
     "data": {
      "text/plain": [
       "array([  1.23247,   0.     ,   8.14   ,   0.     ,   0.538  ,   6.142  ,\n",
       "        91.7    ,   3.9769 ,   4.     , 307.     ,  21.     , 396.9    ,\n",
       "        18.72   ], dtype=float32)"
      ]
     },
     "execution_count": 17,
     "metadata": {
      "tags": []
     },
     "output_type": "execute_result"
    }
   ],
   "source": [
    "train_x[0]"
   ]
  },
  {
   "cell_type": "code",
   "execution_count": null,
   "metadata": {
    "id": "7dq8A7YAE3kv"
   },
   "outputs": [],
   "source": []
  }
 ],
 "metadata": {
  "accelerator": "GPU",
  "colab": {
   "collapsed_sections": [],
   "name": "2a. Boston Housing Prices_Eager_Execution.ipynb",
   "provenance": []
  },
  "kernelspec": {
   "display_name": "Python 3",
   "language": "python",
   "name": "python3"
  },
  "language_info": {
   "codemirror_mode": {
    "name": "ipython",
    "version": 3
   },
   "file_extension": ".py",
   "mimetype": "text/x-python",
   "name": "python",
   "nbconvert_exporter": "python",
   "pygments_lexer": "ipython3",
   "version": "3.8.8"
  }
 },
 "nbformat": 4,
 "nbformat_minor": 1
}
