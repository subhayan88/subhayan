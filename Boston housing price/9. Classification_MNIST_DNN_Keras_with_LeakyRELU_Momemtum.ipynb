{
 "cells": [
  {
   "cell_type": "markdown",
   "metadata": {
    "id": "2FOkt_PVMd6h"
   },
   "source": [
    "### Load tensorflow"
   ]
  },
  {
   "cell_type": "code",
   "execution_count": null,
   "metadata": {
    "id": "QknvBKm3Md6j"
   },
   "outputs": [],
   "source": [
    "import tensorflow as tf"
   ]
  },
  {
   "cell_type": "markdown",
   "metadata": {
    "id": "QHbDtQQJMd6m"
   },
   "source": [
    "### Collect Data"
   ]
  },
  {
   "cell_type": "code",
   "execution_count": null,
   "metadata": {
    "colab": {
     "base_uri": "https://localhost:8080/"
    },
    "executionInfo": {
     "elapsed": 3146,
     "status": "ok",
     "timestamp": 1607420752708,
     "user": {
      "displayName": "Sayan Dey",
      "photoUrl": "https://lh3.googleusercontent.com/a-/AOh14GgqVHJ9o6-7idGiRbNNd4iVc1VjzvuPnwmAnvEtD6U=s64",
      "userId": "03603580465490055794"
     },
     "user_tz": -330
    },
    "id": "AJ6bJeCGMd6n",
    "outputId": "391323d5-f6c6-4c0f-c949-848adb3d3374"
   },
   "outputs": [
    {
     "name": "stdout",
     "output_type": "stream",
     "text": [
      "Downloading data from https://storage.googleapis.com/tensorflow/tf-keras-datasets/mnist.npz\n",
      "11493376/11490434 [==============================] - 0s 0us/step\n"
     ]
    }
   ],
   "source": [
    "(trainX, trainY),(testX, testY) = tf.keras.datasets.mnist.load_data()"
   ]
  },
  {
   "cell_type": "markdown",
   "metadata": {
    "id": "8rxmqpkpMd6r"
   },
   "source": [
    "### Convert Output label to multiple values"
   ]
  },
  {
   "cell_type": "code",
   "execution_count": null,
   "metadata": {
    "id": "Jr8yucgyMd6s"
   },
   "outputs": [],
   "source": [
    "trainY = tf.keras.utils.to_categorical(trainY, num_classes=10)\n",
    "testY = tf.keras.utils.to_categorical(testY, num_classes=10)"
   ]
  },
  {
   "cell_type": "markdown",
   "metadata": {
    "id": "nACcpZ6oMd6z"
   },
   "source": [
    "## Build the Graph"
   ]
  },
  {
   "cell_type": "code",
   "execution_count": null,
   "metadata": {
    "id": "9h6GBSH6Md61"
   },
   "outputs": [],
   "source": [
    "#Initialize Sequential model\n",
    "tf.keras.backend.clear_session()\n",
    "model = tf.keras.models.Sequential()\n",
    "\n",
    "#Reshape data from 2D to 1D -> 28x28 to 784\n",
    "model.add(tf.keras.layers.Reshape((784,),input_shape=(28,28,)))\n",
    "\n",
    "#Normalize the data\n",
    "model.add(tf.keras.layers.BatchNormalization())"
   ]
  },
  {
   "cell_type": "markdown",
   "metadata": {
    "id": "imGSX5XjMd66"
   },
   "source": [
    "## Build the Graph..."
   ]
  },
  {
   "cell_type": "code",
   "execution_count": null,
   "metadata": {
    "id": "Oj8TnaTxMd68"
   },
   "outputs": [],
   "source": [
    "#Add 1st hidden layer\n",
    "model.add(tf.keras.layers.Dense(200))\n",
    "model.add(tf.keras.layers.LeakyReLU())\n",
    "model.add(tf.keras.layers.BatchNormalization())"
   ]
  },
  {
   "cell_type": "code",
   "execution_count": null,
   "metadata": {
    "id": "BQvERJeKMd7A"
   },
   "outputs": [],
   "source": [
    "#Add 2nd hidden layer\n",
    "model.add(tf.keras.layers.Dense(100))\n",
    "model.add(tf.keras.layers.LeakyReLU())\n",
    "model.add(tf.keras.layers.BatchNormalization())\n",
    "model.add(tf.keras.layers.Dropout(0.3))"
   ]
  },
  {
   "cell_type": "code",
   "execution_count": null,
   "metadata": {
    "id": "pwcz87-MMd7E"
   },
   "outputs": [],
   "source": [
    "#Add 3rd hidden layer\n",
    "model.add(tf.keras.layers.Dense(60))\n",
    "model.add(tf.keras.layers.LeakyReLU())\n",
    "model.add(tf.keras.layers.BatchNormalization())"
   ]
  },
  {
   "cell_type": "code",
   "execution_count": null,
   "metadata": {
    "id": "C4j9Cm1IMd7J"
   },
   "outputs": [],
   "source": [
    "#Add 4th hidden layer\n",
    "model.add(tf.keras.layers.Dense(30))\n",
    "model.add(tf.keras.layers.LeakyReLU())\n",
    "model.add(tf.keras.layers.BatchNormalization())\n",
    "model.add(tf.keras.layers.Dropout(0.3))"
   ]
  },
  {
   "cell_type": "code",
   "execution_count": null,
   "metadata": {
    "id": "G05v_Zy9Md7Q"
   },
   "outputs": [],
   "source": [
    "#Add OUTPUT layer\n",
    "model.add(tf.keras.layers.Dense(10, activation='softmax'))"
   ]
  },
  {
   "cell_type": "markdown",
   "metadata": {
    "id": "pYNxSLydMd7U"
   },
   "source": [
    "## Build the Graph..."
   ]
  },
  {
   "cell_type": "code",
   "execution_count": null,
   "metadata": {
    "id": "FJWmzZ2vMd7W"
   },
   "outputs": [],
   "source": [
    "#Compile the model\n",
    "sgd_op = tf.keras.optimizers.SGD(lr=0.01, momentum=0.9, nesterov=True)\n",
    "model.compile(optimizer=sgd_op, loss='categorical_crossentropy', \n",
    "              metrics=['accuracy'])"
   ]
  },
  {
   "cell_type": "markdown",
   "metadata": {
    "id": "gW7j_VfVMd7a"
   },
   "source": [
    "## Review model"
   ]
  },
  {
   "cell_type": "code",
   "execution_count": null,
   "metadata": {
    "colab": {
     "base_uri": "https://localhost:8080/"
    },
    "executionInfo": {
     "elapsed": 1448,
     "status": "ok",
     "timestamp": 1607421060809,
     "user": {
      "displayName": "Sayan Dey",
      "photoUrl": "https://lh3.googleusercontent.com/a-/AOh14GgqVHJ9o6-7idGiRbNNd4iVc1VjzvuPnwmAnvEtD6U=s64",
      "userId": "03603580465490055794"
     },
     "user_tz": -330
    },
    "id": "ghrWVH2ZMd7b",
    "outputId": "5e54517c-a91b-42de-9725-45f40bb5cb5c"
   },
   "outputs": [
    {
     "name": "stdout",
     "output_type": "stream",
     "text": [
      "Model: \"sequential\"\n",
      "_________________________________________________________________\n",
      "Layer (type)                 Output Shape              Param #   \n",
      "=================================================================\n",
      "reshape (Reshape)            (None, 784)               0         \n",
      "_________________________________________________________________\n",
      "batch_normalization (BatchNo (None, 784)               3136      \n",
      "_________________________________________________________________\n",
      "dense (Dense)                (None, 200)               157000    \n",
      "_________________________________________________________________\n",
      "leaky_re_lu (LeakyReLU)      (None, 200)               0         \n",
      "_________________________________________________________________\n",
      "batch_normalization_1 (Batch (None, 200)               800       \n",
      "_________________________________________________________________\n",
      "dense_1 (Dense)              (None, 100)               20100     \n",
      "_________________________________________________________________\n",
      "leaky_re_lu_1 (LeakyReLU)    (None, 100)               0         \n",
      "_________________________________________________________________\n",
      "batch_normalization_2 (Batch (None, 100)               400       \n",
      "_________________________________________________________________\n",
      "dropout (Dropout)            (None, 100)               0         \n",
      "_________________________________________________________________\n",
      "dense_2 (Dense)              (None, 60)                6060      \n",
      "_________________________________________________________________\n",
      "leaky_re_lu_2 (LeakyReLU)    (None, 60)                0         \n",
      "_________________________________________________________________\n",
      "batch_normalization_3 (Batch (None, 60)                240       \n",
      "_________________________________________________________________\n",
      "dense_3 (Dense)              (None, 30)                1830      \n",
      "_________________________________________________________________\n",
      "leaky_re_lu_3 (LeakyReLU)    (None, 30)                0         \n",
      "_________________________________________________________________\n",
      "batch_normalization_4 (Batch (None, 30)                120       \n",
      "_________________________________________________________________\n",
      "dropout_1 (Dropout)          (None, 30)                0         \n",
      "_________________________________________________________________\n",
      "dense_4 (Dense)              (None, 10)                310       \n",
      "=================================================================\n",
      "Total params: 189,996\n",
      "Trainable params: 187,648\n",
      "Non-trainable params: 2,348\n",
      "_________________________________________________________________\n"
     ]
    }
   ],
   "source": [
    "model.summary()"
   ]
  },
  {
   "cell_type": "markdown",
   "metadata": {
    "id": "Lblu99B6Md7l"
   },
   "source": [
    "## Train the model"
   ]
  },
  {
   "cell_type": "code",
   "execution_count": null,
   "metadata": {
    "colab": {
     "base_uri": "https://localhost:8080/"
    },
    "executionInfo": {
     "elapsed": 79683,
     "status": "ok",
     "timestamp": 1607421141329,
     "user": {
      "displayName": "Sayan Dey",
      "photoUrl": "https://lh3.googleusercontent.com/a-/AOh14GgqVHJ9o6-7idGiRbNNd4iVc1VjzvuPnwmAnvEtD6U=s64",
      "userId": "03603580465490055794"
     },
     "user_tz": -330
    },
    "id": "HyDVYzwxMd7m",
    "outputId": "c7579f26-fa2e-4e65-e0be-e87cd3eb31b6"
   },
   "outputs": [
    {
     "name": "stdout",
     "output_type": "stream",
     "text": [
      "Epoch 1/10\n",
      "1875/1875 [==============================] - 8s 4ms/step - loss: 0.0548 - accuracy: 0.9836 - val_loss: 0.2626 - val_accuracy: 0.9793\n",
      "Epoch 2/10\n",
      "1875/1875 [==============================] - 7s 4ms/step - loss: 0.0473 - accuracy: 0.9855 - val_loss: 0.2718 - val_accuracy: 0.9796\n",
      "Epoch 3/10\n",
      "1875/1875 [==============================] - 8s 4ms/step - loss: 0.0442 - accuracy: 0.9863 - val_loss: 0.2711 - val_accuracy: 0.9792\n",
      "Epoch 4/10\n",
      "1875/1875 [==============================] - 8s 4ms/step - loss: 0.0427 - accuracy: 0.9873 - val_loss: 0.3716 - val_accuracy: 0.9801\n",
      "Epoch 5/10\n",
      "1875/1875 [==============================] - 8s 4ms/step - loss: 0.0415 - accuracy: 0.9876 - val_loss: 0.2762 - val_accuracy: 0.9789\n",
      "Epoch 6/10\n",
      "1875/1875 [==============================] - 7s 4ms/step - loss: 0.0391 - accuracy: 0.9880 - val_loss: 0.3484 - val_accuracy: 0.9791\n",
      "Epoch 7/10\n",
      "1875/1875 [==============================] - 8s 4ms/step - loss: 0.0377 - accuracy: 0.9883 - val_loss: 0.6528 - val_accuracy: 0.9774\n",
      "Epoch 8/10\n",
      "1875/1875 [==============================] - 8s 4ms/step - loss: 0.0371 - accuracy: 0.9890 - val_loss: 0.4348 - val_accuracy: 0.9793\n",
      "Epoch 9/10\n",
      "1875/1875 [==============================] - 8s 4ms/step - loss: 0.0388 - accuracy: 0.9882 - val_loss: 0.3939 - val_accuracy: 0.9810\n",
      "Epoch 10/10\n",
      "1875/1875 [==============================] - 8s 4ms/step - loss: 0.0383 - accuracy: 0.9883 - val_loss: 0.4352 - val_accuracy: 0.9795\n"
     ]
    },
    {
     "data": {
      "text/plain": [
       "<tensorflow.python.keras.callbacks.History at 0x7f7ca02473c8>"
      ]
     },
     "execution_count": 18,
     "metadata": {
      "tags": []
     },
     "output_type": "execute_result"
    }
   ],
   "source": [
    "model.fit(trainX,trainY,          \n",
    "          validation_data=(testX,testY),\n",
    "          epochs=10,\n",
    "          batch_size=32)"
   ]
  },
  {
   "cell_type": "code",
   "execution_count": null,
   "metadata": {
    "id": "CKZ7-LXUOGry"
   },
   "outputs": [],
   "source": [
    "model.save('mnist_dnn_v1.h5')"
   ]
  },
  {
   "cell_type": "code",
   "execution_count": null,
   "metadata": {
    "colab": {
     "base_uri": "https://localhost:8080/",
     "height": 68
    },
    "executionInfo": {
     "elapsed": 1561,
     "status": "ok",
     "timestamp": 1600862403551,
     "user": {
      "displayName": "Sayan Dey",
      "photoUrl": "https://lh3.googleusercontent.com/a-/AOh14GgqVHJ9o6-7idGiRbNNd4iVc1VjzvuPnwmAnvEtD6U=s64",
      "userId": "03603580465490055794"
     },
     "user_tz": -330
    },
    "id": "7wKsQvi93GOY",
    "outputId": "5f9b4fa3-c395-4ed8-f4e5-e856c2ee9483"
   },
   "outputs": [
    {
     "name": "stdout",
     "output_type": "stream",
     "text": [
      "total 1568\n",
      "-rw-r--r-- 1 root root 1601064 Sep 23 12:00 mnist_dnn_v1.h5\n",
      "drwxr-xr-x 1 root root    4096 Sep 16 16:29 sample_data\n"
     ]
    }
   ],
   "source": [
    "!ls -l"
   ]
  }
 ],
 "metadata": {
  "accelerator": "GPU",
  "colab": {
   "collapsed_sections": [],
   "name": "9. Classification_MNIST_DNN_Keras_with_LeakyRELU_Momemtum.ipynb",
   "provenance": []
  },
  "kernelspec": {
   "display_name": "Python 3",
   "language": "python",
   "name": "python3"
  },
  "language_info": {
   "codemirror_mode": {
    "name": "ipython",
    "version": 3
   },
   "file_extension": ".py",
   "mimetype": "text/x-python",
   "name": "python",
   "nbconvert_exporter": "python",
   "pygments_lexer": "ipython3",
   "version": "3.8.8"
  }
 },
 "nbformat": 4,
 "nbformat_minor": 1
}
