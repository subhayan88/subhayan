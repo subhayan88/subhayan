{
 "cells": [
  {
   "cell_type": "markdown",
   "metadata": {
    "id": "X_cdgs6Gtnsc"
   },
   "source": [
    "#### Load TensorFlow and Enable Eager Execution"
   ]
  },
  {
   "cell_type": "code",
   "execution_count": 1,
   "metadata": {
    "executionInfo": {
     "elapsed": 1403,
     "status": "ok",
     "timestamp": 1618644614716,
     "user": {
      "displayName": "Sayan Dey",
      "photoUrl": "https://lh3.googleusercontent.com/a-/AOh14GgqVHJ9o6-7idGiRbNNd4iVc1VjzvuPnwmAnvEtD6U=s64",
      "userId": "03603580465490055794"
     },
     "user_tz": -330
    },
    "id": "5b_EywEw4MMe"
   },
   "outputs": [],
   "source": [
    "import tensorflow as tf"
   ]
  },
  {
   "cell_type": "code",
   "execution_count": 2,
   "metadata": {
    "colab": {
     "base_uri": "https://localhost:8080/",
     "height": 35
    },
    "executionInfo": {
     "elapsed": 1834,
     "status": "ok",
     "timestamp": 1618644615246,
     "user": {
      "displayName": "Sayan Dey",
      "photoUrl": "https://lh3.googleusercontent.com/a-/AOh14GgqVHJ9o6-7idGiRbNNd4iVc1VjzvuPnwmAnvEtD6U=s64",
      "userId": "03603580465490055794"
     },
     "user_tz": -330
    },
    "id": "mbkpLj1A4qbS",
    "outputId": "cc1e6226-03af-46a3-b90f-811d09363b66"
   },
   "outputs": [
    {
     "data": {
      "text/plain": [
       "'2.4.1'"
      ]
     },
     "execution_count": 2,
     "metadata": {},
     "output_type": "execute_result"
    }
   ],
   "source": [
    "tf.__version__"
   ]
  },
  {
   "cell_type": "code",
   "execution_count": 3,
   "metadata": {
    "executionInfo": {
     "elapsed": 1557,
     "status": "ok",
     "timestamp": 1618644615246,
     "user": {
      "displayName": "Sayan Dey",
      "photoUrl": "https://lh3.googleusercontent.com/a-/AOh14GgqVHJ9o6-7idGiRbNNd4iVc1VjzvuPnwmAnvEtD6U=s64",
      "userId": "03603580465490055794"
     },
     "user_tz": -330
    },
    "id": "6ZqHpTR3zk6G"
   },
   "outputs": [],
   "source": [
    "from sklearn.preprocessing import Normalizer"
   ]
  },
  {
   "cell_type": "markdown",
   "metadata": {
    "id": "21W7saMGt1_F"
   },
   "source": [
    "#### Load Data"
   ]
  },
  {
   "cell_type": "code",
   "execution_count": 4,
   "metadata": {
    "executionInfo": {
     "elapsed": 1299,
     "status": "ok",
     "timestamp": 1618644615749,
     "user": {
      "displayName": "Sayan Dey",
      "photoUrl": "https://lh3.googleusercontent.com/a-/AOh14GgqVHJ9o6-7idGiRbNNd4iVc1VjzvuPnwmAnvEtD6U=s64",
      "userId": "03603580465490055794"
     },
     "user_tz": -330
    },
    "id": "2F_QcYwH4u7I"
   },
   "outputs": [
    {
     "name": "stdout",
     "output_type": "stream",
     "text": [
      "Downloading data from https://storage.googleapis.com/tensorflow/tf-keras-datasets/boston_housing.npz\n",
      "57344/57026 [==============================] - 0s 4us/step\n"
     ]
    }
   ],
   "source": [
    "(train_x, train_y),(_,_) = tf.keras.datasets.boston_housing.load_data(test_split=0)"
   ]
  },
  {
   "cell_type": "code",
   "execution_count": 5,
   "metadata": {
    "colab": {
     "base_uri": "https://localhost:8080/"
    },
    "executionInfo": {
     "elapsed": 934,
     "status": "ok",
     "timestamp": 1618644615750,
     "user": {
      "displayName": "Sayan Dey",
      "photoUrl": "https://lh3.googleusercontent.com/a-/AOh14GgqVHJ9o6-7idGiRbNNd4iVc1VjzvuPnwmAnvEtD6U=s64",
      "userId": "03603580465490055794"
     },
     "user_tz": -330
    },
    "id": "pcDQYh3SBUNV",
    "outputId": "fb76daa8-e26e-4fb9-b044-4cb544becdfe"
   },
   "outputs": [
    {
     "data": {
      "text/plain": [
       "array([  1.23247,   0.     ,   8.14   ,   0.     ,   0.538  ,   6.142  ,\n",
       "        91.7    ,   3.9769 ,   4.     , 307.     ,  21.     , 396.9    ,\n",
       "        18.72   ])"
      ]
     },
     "execution_count": 5,
     "metadata": {},
     "output_type": "execute_result"
    }
   ],
   "source": [
    "train_x[0]"
   ]
  },
  {
   "cell_type": "code",
   "execution_count": 6,
   "metadata": {
    "executionInfo": {
     "elapsed": 1272,
     "status": "ok",
     "timestamp": 1618644616253,
     "user": {
      "displayName": "Sayan Dey",
      "photoUrl": "https://lh3.googleusercontent.com/a-/AOh14GgqVHJ9o6-7idGiRbNNd4iVc1VjzvuPnwmAnvEtD6U=s64",
      "userId": "03603580465490055794"
     },
     "user_tz": -330
    },
    "id": "lADXNbMKGH_g"
   },
   "outputs": [],
   "source": [
    "train_x = train_x.astype('float32')\n",
    "train_y = train_y.astype('float32')"
   ]
  },
  {
   "cell_type": "code",
   "execution_count": 7,
   "metadata": {
    "colab": {
     "base_uri": "https://localhost:8080/"
    },
    "executionInfo": {
     "elapsed": 857,
     "status": "ok",
     "timestamp": 1618644619428,
     "user": {
      "displayName": "Sayan Dey",
      "photoUrl": "https://lh3.googleusercontent.com/a-/AOh14GgqVHJ9o6-7idGiRbNNd4iVc1VjzvuPnwmAnvEtD6U=s64",
      "userId": "03603580465490055794"
     },
     "user_tz": -330
    },
    "id": "TKDsS4vKGl3E",
    "outputId": "1ee401e3-a967-4a4c-9353-a96ef2be9552"
   },
   "outputs": [
    {
     "data": {
      "text/plain": [
       "(506, 13)"
      ]
     },
     "execution_count": 7,
     "metadata": {},
     "output_type": "execute_result"
    }
   ],
   "source": [
    "train_x.shape"
   ]
  },
  {
   "cell_type": "code",
   "execution_count": 8,
   "metadata": {
    "colab": {
     "base_uri": "https://localhost:8080/"
    },
    "executionInfo": {
     "elapsed": 1259,
     "status": "ok",
     "timestamp": 1618644619981,
     "user": {
      "displayName": "Sayan Dey",
      "photoUrl": "https://lh3.googleusercontent.com/a-/AOh14GgqVHJ9o6-7idGiRbNNd4iVc1VjzvuPnwmAnvEtD6U=s64",
      "userId": "03603580465490055794"
     },
     "user_tz": -330
    },
    "id": "FXk9VbBz_Mbh",
    "outputId": "35946a72-39ba-4b36-8419-512a61759b8a"
   },
   "outputs": [
    {
     "data": {
      "text/plain": [
       "(506,)"
      ]
     },
     "execution_count": 8,
     "metadata": {},
     "output_type": "execute_result"
    }
   ],
   "source": [
    "train_y.shape"
   ]
  },
  {
   "cell_type": "code",
   "execution_count": 9,
   "metadata": {
    "executionInfo": {
     "elapsed": 1208,
     "status": "ok",
     "timestamp": 1618644629768,
     "user": {
      "displayName": "Sayan Dey",
      "photoUrl": "https://lh3.googleusercontent.com/a-/AOh14GgqVHJ9o6-7idGiRbNNd4iVc1VjzvuPnwmAnvEtD6U=s64",
      "userId": "03603580465490055794"
     },
     "user_tz": -330
    },
    "id": "NPqcYGULzifH"
   },
   "outputs": [],
   "source": [
    "transformer = Normalizer()\n",
    "train_x = transformer.fit_transform(train_x)"
   ]
  },
  {
   "cell_type": "code",
   "execution_count": 10,
   "metadata": {
    "colab": {
     "base_uri": "https://localhost:8080/"
    },
    "executionInfo": {
     "elapsed": 1254,
     "status": "ok",
     "timestamp": 1618644633353,
     "user": {
      "displayName": "Sayan Dey",
      "photoUrl": "https://lh3.googleusercontent.com/a-/AOh14GgqVHJ9o6-7idGiRbNNd4iVc1VjzvuPnwmAnvEtD6U=s64",
      "userId": "03603580465490055794"
     },
     "user_tz": -330
    },
    "id": "1RUXHjKml5Z8",
    "outputId": "39755b76-1fbe-4c03-92ce-88be03eb0c8f"
   },
   "outputs": [
    {
     "data": {
      "text/plain": [
       "array([0.0024119 , 0.        , 0.01592969, 0.        , 0.00105285,\n",
       "       0.01201967, 0.17945358, 0.00778265, 0.00782786, 0.60078794,\n",
       "       0.04109624, 0.776719  , 0.03663436], dtype=float32)"
      ]
     },
     "execution_count": 10,
     "metadata": {},
     "output_type": "execute_result"
    }
   ],
   "source": [
    "train_x[0]"
   ]
  },
  {
   "cell_type": "markdown",
   "metadata": {
    "id": "fOIoE3qCt9Wp"
   },
   "source": [
    "#### Build Model"
   ]
  },
  {
   "cell_type": "markdown",
   "metadata": {
    "id": "uSMg5HDluCZG"
   },
   "source": [
    "Define Weights and Bias"
   ]
  },
  {
   "cell_type": "code",
   "execution_count": 11,
   "metadata": {
    "executionInfo": {
     "elapsed": 6526,
     "status": "ok",
     "timestamp": 1618645095381,
     "user": {
      "displayName": "Sayan Dey",
      "photoUrl": "https://lh3.googleusercontent.com/a-/AOh14GgqVHJ9o6-7idGiRbNNd4iVc1VjzvuPnwmAnvEtD6U=s64",
      "userId": "03603580465490055794"
     },
     "user_tz": -330
    },
    "id": "1qHkc0mS_KZP"
   },
   "outputs": [],
   "source": [
    "#We are initializing weights and Bias with Zero\n",
    "w = tf.zeros(shape=(13,1))\n",
    "b = tf.zeros(shape=(1))"
   ]
  },
  {
   "cell_type": "markdown",
   "metadata": {
    "id": "MP8U92hduNeV"
   },
   "source": [
    "Define a function to calculate prediction"
   ]
  },
  {
   "cell_type": "code",
   "execution_count": 12,
   "metadata": {
    "executionInfo": {
     "elapsed": 2520,
     "status": "ok",
     "timestamp": 1618645095382,
     "user": {
      "displayName": "Sayan Dey",
      "photoUrl": "https://lh3.googleusercontent.com/a-/AOh14GgqVHJ9o6-7idGiRbNNd4iVc1VjzvuPnwmAnvEtD6U=s64",
      "userId": "03603580465490055794"
     },
     "user_tz": -330
    },
    "id": "ARk9SVAb_jBA"
   },
   "outputs": [],
   "source": [
    "def prediction(x, w, b):\n",
    "    \n",
    "    xw_matmul = tf.matmul(x, w)\n",
    "    y = tf.add(xw_matmul, b)\n",
    "    \n",
    "    return y"
   ]
  },
  {
   "cell_type": "markdown",
   "metadata": {
    "id": "0QKcoDtbuhDl"
   },
   "source": [
    "Function to calculate Loss (Mean Squared Error)"
   ]
  },
  {
   "cell_type": "code",
   "execution_count": 13,
   "metadata": {
    "executionInfo": {
     "elapsed": 1750,
     "status": "ok",
     "timestamp": 1618645095382,
     "user": {
      "displayName": "Sayan Dey",
      "photoUrl": "https://lh3.googleusercontent.com/a-/AOh14GgqVHJ9o6-7idGiRbNNd4iVc1VjzvuPnwmAnvEtD6U=s64",
      "userId": "03603580465490055794"
     },
     "user_tz": -330
    },
    "id": "zEkRNWEa_q45"
   },
   "outputs": [],
   "source": [
    "def loss(y_actual, y_predicted):\n",
    "    \n",
    "    diff = y_actual - y_predicted\n",
    "    sqr = tf.square(diff)\n",
    "    avg = tf.reduce_mean(sqr)\n",
    "    \n",
    "    return avg"
   ]
  },
  {
   "cell_type": "markdown",
   "metadata": {
    "id": "2U2j7okPul9V"
   },
   "source": [
    "Function to train the Model\n",
    "\n",
    "1.   Record all the mathematical steps to calculate Loss\n",
    "2.   Calculate Gradients of Loss w.r.t weights and bias\n",
    "3.   Update Weights and Bias based on gradients and learning rate\n",
    "\n"
   ]
  },
  {
   "cell_type": "code",
   "execution_count": 14,
   "metadata": {
    "executionInfo": {
     "elapsed": 1324,
     "status": "ok",
     "timestamp": 1618645095993,
     "user": {
      "displayName": "Sayan Dey",
      "photoUrl": "https://lh3.googleusercontent.com/a-/AOh14GgqVHJ9o6-7idGiRbNNd4iVc1VjzvuPnwmAnvEtD6U=s64",
      "userId": "03603580465490055794"
     },
     "user_tz": -330
    },
    "id": "r_Zu3u8IARZu"
   },
   "outputs": [],
   "source": [
    "def train(x, y_actual, w, b, learning_rate=0.01):\n",
    "    \n",
    "    #Record mathematical operations on 'tape' to calculate loss\n",
    "    with tf.GradientTape() as t:\n",
    "        \n",
    "        t.watch([w,b])\n",
    "        \n",
    "        current_prediction = prediction(x, w, b)\n",
    "        current_loss = loss(y_actual, current_prediction)\n",
    "    \n",
    "    #Calculate Gradients for Loss with respect to Weights and Bias\n",
    "    dw, db = t.gradient(current_loss,[w, b])\n",
    "    \n",
    "    #Update Weights and Bias\n",
    "    w = w - learning_rate*dw\n",
    "    b = b - learning_rate*db\n",
    "    \n",
    "    return w, b"
   ]
  },
  {
   "cell_type": "markdown",
   "metadata": {
    "id": "zcXDZ6N5vNw-"
   },
   "source": [
    "#### Start Training"
   ]
  },
  {
   "cell_type": "code",
   "execution_count": 15,
   "metadata": {
    "colab": {
     "base_uri": "https://localhost:8080/"
    },
    "executionInfo": {
     "elapsed": 3971,
     "status": "ok",
     "timestamp": 1618645100194,
     "user": {
      "displayName": "Sayan Dey",
      "photoUrl": "https://lh3.googleusercontent.com/a-/AOh14GgqVHJ9o6-7idGiRbNNd4iVc1VjzvuPnwmAnvEtD6U=s64",
      "userId": "03603580465490055794"
     },
     "user_tz": -330
    },
    "id": "gOY134RfEpbq",
    "outputId": "cb193240-0597-47bd-dc68-12bb2ef2245b"
   },
   "outputs": [
    {
     "name": "stdout",
     "output_type": "stream",
     "text": [
      "Current Loss on iteration 0 553.7515\n",
      "Current Loss on iteration 1 518.2617\n",
      "Current Loss on iteration 2 485.45786\n",
      "Current Loss on iteration 3 455.1365\n",
      "Current Loss on iteration 4 427.1098\n",
      "Current Loss on iteration 5 401.20413\n",
      "Current Loss on iteration 6 377.25897\n",
      "Current Loss on iteration 7 355.12595\n",
      "Current Loss on iteration 8 334.66788\n",
      "Current Loss on iteration 9 315.75803\n",
      "Current Loss on iteration 10 298.27924\n",
      "Current Loss on iteration 11 282.1232\n",
      "Current Loss on iteration 12 267.1898\n",
      "Current Loss on iteration 13 253.38652\n",
      "Current Loss on iteration 14 240.62787\n",
      "Current Loss on iteration 15 228.83472\n",
      "Current Loss on iteration 16 217.93405\n",
      "Current Loss on iteration 17 207.8583\n",
      "Current Loss on iteration 18 198.54506\n",
      "Current Loss on iteration 19 189.9366\n",
      "Current Loss on iteration 20 181.97958\n",
      "Current Loss on iteration 21 174.62473\n",
      "Current Loss on iteration 22 167.82645\n",
      "Current Loss on iteration 23 161.54263\n",
      "Current Loss on iteration 24 155.73434\n",
      "Current Loss on iteration 25 150.36557\n",
      "Current Loss on iteration 26 145.4031\n",
      "Current Loss on iteration 27 140.81613\n",
      "Current Loss on iteration 28 136.57628\n",
      "Current Loss on iteration 29 132.65729\n",
      "Current Loss on iteration 30 129.03482\n",
      "Current Loss on iteration 31 125.68647\n",
      "Current Loss on iteration 32 122.5915\n",
      "Current Loss on iteration 33 119.73073\n",
      "Current Loss on iteration 34 117.086426\n",
      "Current Loss on iteration 35 114.64222\n",
      "Current Loss on iteration 36 112.38295\n",
      "Current Loss on iteration 37 110.29462\n",
      "Current Loss on iteration 38 108.36432\n",
      "Current Loss on iteration 39 106.58006\n",
      "Current Loss on iteration 40 104.93081\n",
      "Current Loss on iteration 41 103.406334\n",
      "Current Loss on iteration 42 101.99722\n",
      "Current Loss on iteration 43 100.6947\n",
      "Current Loss on iteration 44 99.49073\n",
      "Current Loss on iteration 45 98.37785\n",
      "Current Loss on iteration 46 97.34915\n",
      "Current Loss on iteration 47 96.39827\n",
      "Current Loss on iteration 48 95.51934\n",
      "Current Loss on iteration 49 94.706894\n",
      "Current Loss on iteration 50 93.955894\n",
      "Current Loss on iteration 51 93.26171\n",
      "Current Loss on iteration 52 92.620026\n",
      "Current Loss on iteration 53 92.02687\n",
      "Current Loss on iteration 54 91.478584\n",
      "Current Loss on iteration 55 90.971756\n",
      "Current Loss on iteration 56 90.50326\n",
      "Current Loss on iteration 57 90.07018\n",
      "Current Loss on iteration 58 89.66986\n",
      "Current Loss on iteration 59 89.299805\n",
      "Current Loss on iteration 60 88.957726\n",
      "Current Loss on iteration 61 88.6415\n",
      "Current Loss on iteration 62 88.34918\n",
      "Current Loss on iteration 63 88.07896\n",
      "Current Loss on iteration 64 87.82915\n",
      "Current Loss on iteration 65 87.59823\n",
      "Current Loss on iteration 66 87.38474\n",
      "Current Loss on iteration 67 87.18739\n",
      "Current Loss on iteration 68 87.00495\n",
      "Current Loss on iteration 69 86.83628\n",
      "Current Loss on iteration 70 86.68036\n",
      "Current Loss on iteration 71 86.5362\n",
      "Current Loss on iteration 72 86.40292\n",
      "Current Loss on iteration 73 86.27971\n",
      "Current Loss on iteration 74 86.16578\n",
      "Current Loss on iteration 75 86.06046\n",
      "Current Loss on iteration 76 85.96307\n",
      "Current Loss on iteration 77 85.87304\n",
      "Current Loss on iteration 78 85.78978\n",
      "Current Loss on iteration 79 85.71281\n",
      "Current Loss on iteration 80 85.64161\n",
      "Current Loss on iteration 81 85.57579\n",
      "Current Loss on iteration 82 85.51493\n",
      "Current Loss on iteration 83 85.45864\n",
      "Current Loss on iteration 84 85.406586\n",
      "Current Loss on iteration 85 85.35844\n",
      "Current Loss on iteration 86 85.31391\n",
      "Current Loss on iteration 87 85.27273\n",
      "Current Loss on iteration 88 85.23464\n",
      "Current Loss on iteration 89 85.199394\n",
      "Current Loss on iteration 90 85.16679\n",
      "Current Loss on iteration 91 85.136635\n",
      "Current Loss on iteration 92 85.108734\n",
      "Current Loss on iteration 93 85.08292\n",
      "Current Loss on iteration 94 85.05902\n",
      "Current Loss on iteration 95 85.03692\n",
      "Current Loss on iteration 96 85.01645\n",
      "Current Loss on iteration 97 84.99751\n",
      "Current Loss on iteration 98 84.97998\n",
      "Current Loss on iteration 99 84.963745\n"
     ]
    }
   ],
   "source": [
    "for i in range(100):\n",
    "    \n",
    "    w, b = train(train_x, train_y, w, b)\n",
    "    print('Current Loss on iteration', i, loss(train_y, prediction(train_x, w, b)).numpy())"
   ]
  },
  {
   "cell_type": "code",
   "execution_count": 16,
   "metadata": {
    "colab": {
     "base_uri": "https://localhost:8080/"
    },
    "executionInfo": {
     "elapsed": 1085,
     "status": "ok",
     "timestamp": 1618645133066,
     "user": {
      "displayName": "Sayan Dey",
      "photoUrl": "https://lh3.googleusercontent.com/a-/AOh14GgqVHJ9o6-7idGiRbNNd4iVc1VjzvuPnwmAnvEtD6U=s64",
      "userId": "03603580465490055794"
     },
     "user_tz": -330
    },
    "id": "DDcxSozRxyer",
    "outputId": "ce825699-7fb5-4a60-ec34-475a19ae9dc1"
   },
   "outputs": [
    {
     "name": "stdout",
     "output_type": "stream",
     "text": [
      "Weights:\n",
      " [[6.27857521e-02]\n",
      " [2.58572161e-01]\n",
      " [2.17821732e-01]\n",
      " [1.46146421e-03]\n",
      " [1.13587305e-02]\n",
      " [1.31812558e-01]\n",
      " [1.38818800e+00]\n",
      " [8.23873580e-02]\n",
      " [1.76484972e-01]\n",
      " [7.99328279e+00]\n",
      " [3.82081807e-01]\n",
      " [7.41107655e+00]\n",
      " [2.53885090e-01]]\n",
      "Bias:\n",
      " [11.476417]\n"
     ]
    }
   ],
   "source": [
    "#Check Weights and Bias\n",
    "print('Weights:\\n', w.numpy())\n",
    "print('Bias:\\n',b.numpy())"
   ]
  }
 ],
 "metadata": {
  "accelerator": "GPU",
  "colab": {
   "collapsed_sections": [],
   "name": "2b. Boston Housing Prices_Eager_Normalization.ipynb",
   "provenance": []
  },
  "kernelspec": {
   "display_name": "Python 3",
   "language": "python",
   "name": "python3"
  },
  "language_info": {
   "codemirror_mode": {
    "name": "ipython",
    "version": 3
   },
   "file_extension": ".py",
   "mimetype": "text/x-python",
   "name": "python",
   "nbconvert_exporter": "python",
   "pygments_lexer": "ipython3",
   "version": "3.8.8"
  }
 },
 "nbformat": 4,
 "nbformat_minor": 1
}
