{
 "cells": [
  {
   "cell_type": "markdown",
   "metadata": {
    "id": "XQd7q6QVtjuq"
   },
   "source": [
    "### Load tensorflow"
   ]
  },
  {
   "cell_type": "code",
   "execution_count": 1,
   "metadata": {
    "executionInfo": {
     "elapsed": 1607,
     "status": "ok",
     "timestamp": 1618729745446,
     "user": {
      "displayName": "Sayan Dey",
      "photoUrl": "https://lh3.googleusercontent.com/a-/AOh14GgqVHJ9o6-7idGiRbNNd4iVc1VjzvuPnwmAnvEtD6U=s64",
      "userId": "03603580465490055794"
     },
     "user_tz": -330
    },
    "id": "nmoXXaDCtjur"
   },
   "outputs": [],
   "source": [
    "import tensorflow as tf\n",
    "#tf.enable_eager_execution()"
   ]
  },
  {
   "cell_type": "code",
   "execution_count": 2,
   "metadata": {
    "executionInfo": {
     "elapsed": 1474,
     "status": "ok",
     "timestamp": 1618729745449,
     "user": {
      "displayName": "Sayan Dey",
      "photoUrl": "https://lh3.googleusercontent.com/a-/AOh14GgqVHJ9o6-7idGiRbNNd4iVc1VjzvuPnwmAnvEtD6U=s64",
      "userId": "03603580465490055794"
     },
     "user_tz": -330
    },
    "id": "d2pe-TGNHE04"
   },
   "outputs": [],
   "source": [
    "from sklearn.preprocessing import Normalizer"
   ]
  },
  {
   "cell_type": "markdown",
   "metadata": {
    "id": "b2Hh5BOStjuv"
   },
   "source": [
    "### Collect Data"
   ]
  },
  {
   "cell_type": "code",
   "execution_count": 3,
   "metadata": {
    "executionInfo": {
     "elapsed": 963,
     "status": "ok",
     "timestamp": 1618729745451,
     "user": {
      "displayName": "Sayan Dey",
      "photoUrl": "https://lh3.googleusercontent.com/a-/AOh14GgqVHJ9o6-7idGiRbNNd4iVc1VjzvuPnwmAnvEtD6U=s64",
      "userId": "03603580465490055794"
     },
     "user_tz": -330
    },
    "id": "B7RVc9Ettjuw"
   },
   "outputs": [],
   "source": [
    "(train_x, train_y),(_,_) = tf.keras.datasets.boston_housing.load_data(test_split=0)"
   ]
  },
  {
   "cell_type": "code",
   "execution_count": 4,
   "metadata": {
    "executionInfo": {
     "elapsed": 1412,
     "status": "ok",
     "timestamp": 1618729746069,
     "user": {
      "displayName": "Sayan Dey",
      "photoUrl": "https://lh3.googleusercontent.com/a-/AOh14GgqVHJ9o6-7idGiRbNNd4iVc1VjzvuPnwmAnvEtD6U=s64",
      "userId": "03603580465490055794"
     },
     "user_tz": -330
    },
    "id": "Liir8Uw2tjuz"
   },
   "outputs": [],
   "source": [
    "train_x = train_x.astype('float32')\n",
    "train_y = train_y.astype('float32')"
   ]
  },
  {
   "cell_type": "code",
   "execution_count": 5,
   "metadata": {
    "executionInfo": {
     "elapsed": 989,
     "status": "ok",
     "timestamp": 1618729746073,
     "user": {
      "displayName": "Sayan Dey",
      "photoUrl": "https://lh3.googleusercontent.com/a-/AOh14GgqVHJ9o6-7idGiRbNNd4iVc1VjzvuPnwmAnvEtD6U=s64",
      "userId": "03603580465490055794"
     },
     "user_tz": -330
    },
    "id": "W9GzUnGgG_jR"
   },
   "outputs": [],
   "source": [
    "transformer = Normalizer()\n",
    "train_x = transformer.fit_transform(train_x)"
   ]
  },
  {
   "cell_type": "markdown",
   "metadata": {
    "id": "VYKevQtMtju2"
   },
   "source": [
    "### Building the graph in Keras"
   ]
  },
  {
   "cell_type": "code",
   "execution_count": 6,
   "metadata": {
    "executionInfo": {
     "elapsed": 1248,
     "status": "ok",
     "timestamp": 1618729749873,
     "user": {
      "displayName": "Sayan Dey",
      "photoUrl": "https://lh3.googleusercontent.com/a-/AOh14GgqVHJ9o6-7idGiRbNNd4iVc1VjzvuPnwmAnvEtD6U=s64",
      "userId": "03603580465490055794"
     },
     "user_tz": -330
    },
    "id": "DwqnAbMttju3"
   },
   "outputs": [],
   "source": [
    "#Initialize Sequential Graph (model)\n",
    "model = tf.keras.Sequential()\n",
    "\n",
    "#Add Dense layer for prediction - Keras declares weights and bias automatically\n",
    "model.add(tf.keras.layers.Dense(1, input_shape=(13,)))\n",
    "\n",
    "#Compile the model - add Loss and Gradient Descent optimizer\n",
    "model.compile(optimizer='sgd', loss='mse')"
   ]
  },
  {
   "cell_type": "markdown",
   "metadata": {
    "id": "kbXIWW5Ptju6"
   },
   "source": [
    "### Execute the Graph"
   ]
  },
  {
   "cell_type": "code",
   "execution_count": 46,
   "metadata": {
    "colab": {
     "base_uri": "https://localhost:8080/"
    },
    "executionInfo": {
     "elapsed": 1997,
     "status": "ok",
     "timestamp": 1618730023958,
     "user": {
      "displayName": "Sayan Dey",
      "photoUrl": "https://lh3.googleusercontent.com/a-/AOh14GgqVHJ9o6-7idGiRbNNd4iVc1VjzvuPnwmAnvEtD6U=s64",
      "userId": "03603580465490055794"
     },
     "user_tz": -330
    },
    "id": "fil-3oQVtju7",
    "outputId": "7b568042-fe17-450a-d813-52be21834855"
   },
   "outputs": [
    {
     "name": "stdout",
     "output_type": "stream",
     "text": [
      "Epoch 1/20\n",
      "16/16 [==============================] - 0s 2ms/step - loss: 60.0508\n",
      "Epoch 2/20\n",
      "16/16 [==============================] - 0s 3ms/step - loss: 60.0556\n",
      "Epoch 3/20\n",
      "16/16 [==============================] - 0s 4ms/step - loss: 60.0982\n",
      "Epoch 4/20\n",
      "16/16 [==============================] - 0s 4ms/step - loss: 60.0326\n",
      "Epoch 5/20\n",
      "16/16 [==============================] - 0s 3ms/step - loss: 60.0440\n",
      "Epoch 6/20\n",
      "16/16 [==============================] - 0s 3ms/step - loss: 60.0290\n",
      "Epoch 7/20\n",
      "16/16 [==============================] - 0s 2ms/step - loss: 60.0559\n",
      "Epoch 8/20\n",
      "16/16 [==============================] - 0s 2ms/step - loss: 60.0170\n",
      "Epoch 9/20\n",
      "16/16 [==============================] - 0s 3ms/step - loss: 60.0186\n",
      "Epoch 10/20\n",
      "16/16 [==============================] - 0s 2ms/step - loss: 60.0274\n",
      "Epoch 11/20\n",
      "16/16 [==============================] - 0s 3ms/step - loss: 59.9821\n",
      "Epoch 12/20\n",
      "16/16 [==============================] - 0s 3ms/step - loss: 60.0581\n",
      "Epoch 13/20\n",
      "16/16 [==============================] - 0s 3ms/step - loss: 60.0491\n",
      "Epoch 14/20\n",
      "16/16 [==============================] - 0s 2ms/step - loss: 59.9849\n",
      "Epoch 15/20\n",
      "16/16 [==============================] - 0s 2ms/step - loss: 59.9788\n",
      "Epoch 16/20\n",
      "16/16 [==============================] - 0s 3ms/step - loss: 60.0632\n",
      "Epoch 17/20\n",
      "16/16 [==============================] - 0s 3ms/step - loss: 60.0060\n",
      "Epoch 18/20\n",
      "16/16 [==============================] - 0s 3ms/step - loss: 59.9477\n",
      "Epoch 19/20\n",
      "16/16 [==============================] - 0s 2ms/step - loss: 59.9853\n",
      "Epoch 20/20\n",
      "16/16 [==============================] - 0s 2ms/step - loss: 59.9966\n"
     ]
    },
    {
     "data": {
      "text/plain": [
       "<tensorflow.python.keras.callbacks.History at 0x224abf8caf0>"
      ]
     },
     "execution_count": 46,
     "metadata": {},
     "output_type": "execute_result"
    }
   ],
   "source": [
    "model.fit(train_x, train_y, epochs=20)"
   ]
  },
  {
   "cell_type": "code",
   "execution_count": 10,
   "metadata": {
    "colab": {
     "base_uri": "https://localhost:8080/"
    },
    "executionInfo": {
     "elapsed": 1322,
     "status": "ok",
     "timestamp": 1618729787431,
     "user": {
      "displayName": "Sayan Dey",
      "photoUrl": "https://lh3.googleusercontent.com/a-/AOh14GgqVHJ9o6-7idGiRbNNd4iVc1VjzvuPnwmAnvEtD6U=s64",
      "userId": "03603580465490055794"
     },
     "user_tz": -330
    },
    "id": "HiWMQHvialuv",
    "outputId": "35053076-e239-4564-fed0-580afe46675c"
   },
   "outputs": [
    {
     "name": "stdout",
     "output_type": "stream",
     "text": [
      "Model: \"sequential\"\n",
      "_________________________________________________________________\n",
      "Layer (type)                 Output Shape              Param #   \n",
      "=================================================================\n",
      "dense (Dense)                (None, 1)                 14        \n",
      "=================================================================\n",
      "Total params: 14\n",
      "Trainable params: 14\n",
      "Non-trainable params: 0\n",
      "_________________________________________________________________\n"
     ]
    }
   ],
   "source": [
    "model.summary()"
   ]
  },
  {
   "cell_type": "code",
   "execution_count": 47,
   "metadata": {
    "colab": {
     "base_uri": "https://localhost:8080/"
    },
    "executionInfo": {
     "elapsed": 1399,
     "status": "ok",
     "timestamp": 1618729789187,
     "user": {
      "displayName": "Sayan Dey",
      "photoUrl": "https://lh3.googleusercontent.com/a-/AOh14GgqVHJ9o6-7idGiRbNNd4iVc1VjzvuPnwmAnvEtD6U=s64",
      "userId": "03603580465490055794"
     },
     "user_tz": -330
    },
    "id": "r96-aaKHatYL",
    "outputId": "9b73cfbd-170e-4c62-c361-ad39329b93e4"
   },
   "outputs": [
    {
     "data": {
      "text/plain": [
       "[array([[ -2.9359665 ],\n",
       "        [ 17.46937   ],\n",
       "        [ -3.4515288 ],\n",
       "        [  0.7444691 ],\n",
       "        [ -0.2935059 ],\n",
       "        [  1.5831242 ],\n",
       "        [ -6.685101  ],\n",
       "        [  0.14263076],\n",
       "        [  1.0699929 ],\n",
       "        [ -5.102211  ],\n",
       "        [ -2.0776455 ],\n",
       "        [ 16.470795  ],\n",
       "        [-11.427208  ]], dtype=float32),\n",
       " array([16.003443], dtype=float32)]"
      ]
     },
     "execution_count": 47,
     "metadata": {},
     "output_type": "execute_result"
    }
   ],
   "source": [
    "model.get_weights()"
   ]
  },
  {
   "cell_type": "markdown",
   "metadata": {
    "id": "WEcEbkRhtju9"
   },
   "source": [
    "### Save the model"
   ]
  },
  {
   "cell_type": "code",
   "execution_count": 11,
   "metadata": {
    "id": "theE0__Ltju-"
   },
   "outputs": [],
   "source": [
    "model.save('boston_housing_lr.h5')"
   ]
  },
  {
   "cell_type": "code",
   "execution_count": null,
   "metadata": {
    "id": "xefPallHAjOG"
   },
   "outputs": [],
   "source": [
    "!ls -l"
   ]
  },
  {
   "cell_type": "code",
   "execution_count": null,
   "metadata": {
    "id": "Qk2bxH_xAzU-"
   },
   "outputs": [],
   "source": [
    "from google.colab import files\n",
    "\n",
    "files.download('boston_housing_lr.h5')"
   ]
  }
 ],
 "metadata": {
  "colab": {
   "collapsed_sections": [],
   "name": "3. Boston_Housing_Prices_KERAS.ipynb",
   "provenance": []
  },
  "kernelspec": {
   "display_name": "Python 3",
   "language": "python",
   "name": "python3"
  },
  "language_info": {
   "codemirror_mode": {
    "name": "ipython",
    "version": 3
   },
   "file_extension": ".py",
   "mimetype": "text/x-python",
   "name": "python",
   "nbconvert_exporter": "python",
   "pygments_lexer": "ipython3",
   "version": "3.8.5"
  }
 },
 "nbformat": 4,
 "nbformat_minor": 1
}
